{
 "cells": [
  {
   "cell_type": "markdown",
   "id": "a85f0cbb",
   "metadata": {},
   "source": [
    "# Instrukcja\n",
    "##### Kombinacja klawiszy SHIFT+ENTER uruchamia daną komórke, tytuły opisują jednocześnie zadania, które komórki spełniają\n",
    "\n",
    "#### Aby uzyskać prawidłowy wykres plik z danymi musi byc odpowiednio sformatowany:\n",
    "##### Musi byc to plik CSV najłatwiej go wykonać w programie Excel lub podobnym\n",
    "##### Separator dziesiętny musi stanowić kropka nie przecinek\n",
    "##### Kolumny powinny być odpowiednio nazwane\n",
    "##### fed = (wychylenie_mm/1000) * c, gdzie: c = 2.65\n",
    "    wychylenie_mm |   a_25   |   a_20   |   a_15   |   a_10   |   a_5    |   fed    |\n",
    "              90  |  0.0210  |  0.0331  |  0.0450  |  0.0622  |  0.1245  |  0.0255  | \n",
    "              80  |  0.0251  |  0.0331  |  0.0450  |  0.0622  |  0.1245  |  0.0520  |\n",
    "           . . .  |  . . .   |  . . .   |  . . .   |  . . .   |  . . .   |  . . .   |\n"
   ]
  },
  {
   "cell_type": "markdown",
   "id": "6834985c",
   "metadata": {},
   "source": [
    "# Import danych z pliku"
   ]
  },
  {
   "cell_type": "code",
   "execution_count": 5,
   "id": "7e8c57fd",
   "metadata": {},
   "outputs": [
    {
     "data": {
      "text/html": [
       "        <script type=\"text/javascript\">\n",
       "        window.PlotlyConfig = {MathJaxConfig: 'local'};\n",
       "        if (window.MathJax) {MathJax.Hub.Config({SVG: {font: \"STIX-Web\"}});}\n",
       "        if (typeof require !== 'undefined') {\n",
       "        require.undef(\"plotly\");\n",
       "        requirejs.config({\n",
       "            paths: {\n",
       "                'plotly': ['https://cdn.plot.ly/plotly-2.9.0.min']\n",
       "            }\n",
       "        });\n",
       "        require(['plotly'], function(Plotly) {\n",
       "            window._Plotly = Plotly;\n",
       "        });\n",
       "        }\n",
       "        </script>\n",
       "        "
      ]
     },
     "metadata": {},
     "output_type": "display_data"
    },
    {
     "data": {
      "text/html": [
       "        <script type=\"text/javascript\">\n",
       "        window.PlotlyConfig = {MathJaxConfig: 'local'};\n",
       "        if (window.MathJax) {MathJax.Hub.Config({SVG: {font: \"STIX-Web\"}});}\n",
       "        if (typeof require !== 'undefined') {\n",
       "        require.undef(\"plotly\");\n",
       "        requirejs.config({\n",
       "            paths: {\n",
       "                'plotly': ['https://cdn.plot.ly/plotly-2.9.0.min']\n",
       "            }\n",
       "        });\n",
       "        require(['plotly'], function(Plotly) {\n",
       "            window._Plotly = Plotly;\n",
       "        });\n",
       "        }\n",
       "        </script>\n",
       "        "
      ]
     },
     "metadata": {},
     "output_type": "display_data"
    },
    {
     "data": {
      "text/html": [
       "<div>\n",
       "<style scoped>\n",
       "    .dataframe tbody tr th:only-of-type {\n",
       "        vertical-align: middle;\n",
       "    }\n",
       "\n",
       "    .dataframe tbody tr th {\n",
       "        vertical-align: top;\n",
       "    }\n",
       "\n",
       "    .dataframe thead th {\n",
       "        text-align: right;\n",
       "    }\n",
       "</style>\n",
       "<table border=\"1\" class=\"dataframe\">\n",
       "  <thead>\n",
       "    <tr style=\"text-align: right;\">\n",
       "      <th></th>\n",
       "      <th>wychylenie_mm</th>\n",
       "      <th>aL_25</th>\n",
       "      <th>aL_20</th>\n",
       "      <th>aL_15</th>\n",
       "      <th>aL_10</th>\n",
       "      <th>aL_5</th>\n",
       "      <th>aS_25</th>\n",
       "      <th>aS_20</th>\n",
       "      <th>aS_15</th>\n",
       "      <th>aS_10</th>\n",
       "      <th>aS_5</th>\n",
       "      <th>fed</th>\n",
       "    </tr>\n",
       "  </thead>\n",
       "  <tbody>\n",
       "    <tr>\n",
       "      <th>0</th>\n",
       "      <td>10</td>\n",
       "      <td>0.021</td>\n",
       "      <td>0.030</td>\n",
       "      <td>0.043</td>\n",
       "      <td>0.067</td>\n",
       "      <td>0.124</td>\n",
       "      <td>0.021</td>\n",
       "      <td>0.031</td>\n",
       "      <td>0.044</td>\n",
       "      <td>0.067</td>\n",
       "      <td>0.136</td>\n",
       "      <td>0.027</td>\n",
       "    </tr>\n",
       "    <tr>\n",
       "      <th>1</th>\n",
       "      <td>20</td>\n",
       "      <td>0.052</td>\n",
       "      <td>0.067</td>\n",
       "      <td>0.091</td>\n",
       "      <td>0.145</td>\n",
       "      <td>0.283</td>\n",
       "      <td>0.046</td>\n",
       "      <td>0.064</td>\n",
       "      <td>0.089</td>\n",
       "      <td>0.136</td>\n",
       "      <td>0.278</td>\n",
       "      <td>0.053</td>\n",
       "    </tr>\n",
       "    <tr>\n",
       "      <th>2</th>\n",
       "      <td>30</td>\n",
       "      <td>0.088</td>\n",
       "      <td>0.105</td>\n",
       "      <td>0.140</td>\n",
       "      <td>0.210</td>\n",
       "      <td>0.430</td>\n",
       "      <td>0.072</td>\n",
       "      <td>0.100</td>\n",
       "      <td>0.137</td>\n",
       "      <td>0.209</td>\n",
       "      <td>0.423</td>\n",
       "      <td>0.080</td>\n",
       "    </tr>\n",
       "    <tr>\n",
       "      <th>3</th>\n",
       "      <td>40</td>\n",
       "      <td>0.112</td>\n",
       "      <td>0.142</td>\n",
       "      <td>0.193</td>\n",
       "      <td>0.280</td>\n",
       "      <td>0.574</td>\n",
       "      <td>0.101</td>\n",
       "      <td>0.136</td>\n",
       "      <td>0.187</td>\n",
       "      <td>0.280</td>\n",
       "      <td>0.568</td>\n",
       "      <td>0.106</td>\n",
       "    </tr>\n",
       "    <tr>\n",
       "      <th>4</th>\n",
       "      <td>50</td>\n",
       "      <td>0.135</td>\n",
       "      <td>0.183</td>\n",
       "      <td>0.243</td>\n",
       "      <td>0.348</td>\n",
       "      <td>0.720</td>\n",
       "      <td>0.132</td>\n",
       "      <td>0.176</td>\n",
       "      <td>0.237</td>\n",
       "      <td>0.356</td>\n",
       "      <td>0.712</td>\n",
       "      <td>0.133</td>\n",
       "    </tr>\n",
       "    <tr>\n",
       "      <th>5</th>\n",
       "      <td>60</td>\n",
       "      <td>0.170</td>\n",
       "      <td>0.207</td>\n",
       "      <td>0.283</td>\n",
       "      <td>0.437</td>\n",
       "      <td>0.852</td>\n",
       "      <td>0.164</td>\n",
       "      <td>0.217</td>\n",
       "      <td>0.288</td>\n",
       "      <td>0.433</td>\n",
       "      <td>0.857</td>\n",
       "      <td>0.159</td>\n",
       "    </tr>\n",
       "    <tr>\n",
       "      <th>6</th>\n",
       "      <td>70</td>\n",
       "      <td>0.196</td>\n",
       "      <td>0.257</td>\n",
       "      <td>0.340</td>\n",
       "      <td>0.500</td>\n",
       "      <td>1.011</td>\n",
       "      <td>0.197</td>\n",
       "      <td>0.259</td>\n",
       "      <td>0.340</td>\n",
       "      <td>0.511</td>\n",
       "      <td>1.007</td>\n",
       "      <td>0.186</td>\n",
       "    </tr>\n",
       "    <tr>\n",
       "      <th>7</th>\n",
       "      <td>80</td>\n",
       "      <td>0.232</td>\n",
       "      <td>0.292</td>\n",
       "      <td>0.382</td>\n",
       "      <td>0.592</td>\n",
       "      <td>1.174</td>\n",
       "      <td>0.234</td>\n",
       "      <td>0.302</td>\n",
       "      <td>0.393</td>\n",
       "      <td>0.590</td>\n",
       "      <td>1.154</td>\n",
       "      <td>0.212</td>\n",
       "    </tr>\n",
       "    <tr>\n",
       "      <th>8</th>\n",
       "      <td>90</td>\n",
       "      <td>0.268</td>\n",
       "      <td>0.340</td>\n",
       "      <td>0.440</td>\n",
       "      <td>0.660</td>\n",
       "      <td>1.313</td>\n",
       "      <td>0.273</td>\n",
       "      <td>0.348</td>\n",
       "      <td>0.447</td>\n",
       "      <td>0.671</td>\n",
       "      <td>1.301</td>\n",
       "      <td>0.239</td>\n",
       "    </tr>\n",
       "    <tr>\n",
       "      <th>9</th>\n",
       "      <td>100</td>\n",
       "      <td>0.297</td>\n",
       "      <td>0.375</td>\n",
       "      <td>0.497</td>\n",
       "      <td>0.750</td>\n",
       "      <td>1.460</td>\n",
       "      <td>0.311</td>\n",
       "      <td>0.394</td>\n",
       "      <td>0.502</td>\n",
       "      <td>0.752</td>\n",
       "      <td>1.451</td>\n",
       "      <td>0.265</td>\n",
       "    </tr>\n",
       "  </tbody>\n",
       "</table>\n",
       "</div>"
      ],
      "text/plain": [
       "   wychylenie_mm  aL_25  aL_20  aL_15  aL_10   aL_5  aS_25  aS_20  aS_15  \\\n",
       "0             10  0.021  0.030  0.043  0.067  0.124  0.021  0.031  0.044   \n",
       "1             20  0.052  0.067  0.091  0.145  0.283  0.046  0.064  0.089   \n",
       "2             30  0.088  0.105  0.140  0.210  0.430  0.072  0.100  0.137   \n",
       "3             40  0.112  0.142  0.193  0.280  0.574  0.101  0.136  0.187   \n",
       "4             50  0.135  0.183  0.243  0.348  0.720  0.132  0.176  0.237   \n",
       "5             60  0.170  0.207  0.283  0.437  0.852  0.164  0.217  0.288   \n",
       "6             70  0.196  0.257  0.340  0.500  1.011  0.197  0.259  0.340   \n",
       "7             80  0.232  0.292  0.382  0.592  1.174  0.234  0.302  0.393   \n",
       "8             90  0.268  0.340  0.440  0.660  1.313  0.273  0.348  0.447   \n",
       "9            100  0.297  0.375  0.497  0.750  1.460  0.311  0.394  0.502   \n",
       "\n",
       "   aS_10   aS_5    fed  \n",
       "0  0.067  0.136  0.027  \n",
       "1  0.136  0.278  0.053  \n",
       "2  0.209  0.423  0.080  \n",
       "3  0.280  0.568  0.106  \n",
       "4  0.356  0.712  0.133  \n",
       "5  0.433  0.857  0.159  \n",
       "6  0.511  1.007  0.186  \n",
       "7  0.590  1.154  0.212  \n",
       "8  0.671  1.301  0.239  \n",
       "9  0.752  1.451  0.265  "
      ]
     },
     "execution_count": 5,
     "metadata": {},
     "output_type": "execute_result"
    }
   ],
   "source": [
    "import ipywidgets as widgets\n",
    "import pandas as pd\n",
    "import numpy as np\n",
    "import chart_studio.plotly as py\n",
    "import cufflinks as cf\n",
    "import seaborn as sns\n",
    "import plotly.express as px\n",
    "import plotly.graph_objects as go\n",
    "from plotly.subplots import make_subplots\n",
    "%matplotlib inline\n",
    "from plotly.offline import download_plotlyjs, init_notebook_mode, plot, iplot\n",
    "init_notebook_mode(connected=True)\n",
    "cf.go_offline()\n",
    "# zostawić 'r' jeśli scięzka ma '\\' || usunąć 'r' jesli ścieżka ma '/'\n",
    "df = pd.read_csv(r\"C:\\Users\\mlsz1\\Documents\\VS Code\\IZN\\jupyter\\cw204_por.csv\")\n",
    "df.head(10)"
   ]
  },
  {
   "cell_type": "markdown",
   "id": "dca49929",
   "metadata": {},
   "source": [
    "# Utworzeniu wykresu F<sub>ed</sub> od I"
   ]
  },
  {
   "cell_type": "code",
   "execution_count": 6,
   "id": "41086d9d",
   "metadata": {},
   "outputs": [
    {
     "data": {
      "application/vnd.plotly.v1+json": {
       "config": {
        "plotlyServerURL": "https://plot.ly"
       },
       "data": [
        {
         "hovertemplate": "variable=aL_25<br>value=%{x}<br>fed=%{y}<extra></extra>",
         "legendgroup": "aL_25",
         "marker": {
          "color": "#636efa",
          "symbol": "circle"
         },
         "mode": "markers",
         "name": "aL_25",
         "orientation": "v",
         "showlegend": true,
         "type": "scatter",
         "x": [
          0.021,
          0.052,
          0.088,
          0.112,
          0.135,
          0.17,
          0.196,
          0.232,
          0.268,
          0.297
         ],
         "xaxis": "x",
         "y": [
          0.027,
          0.053,
          0.08,
          0.106,
          0.133,
          0.159,
          0.186,
          0.212,
          0.239,
          0.265
         ],
         "yaxis": "y"
        },
        {
         "hovertemplate": "<b>OLS trendline</b><br>fed = 0.871415 * value + 0.00910066<br>R<sup>2</sup>=0.997618<br><br>variable=aL_25<br>value=%{x}<br>fed=%{y} <b>(trend)</b><extra></extra>",
         "legendgroup": "aL_25",
         "marker": {
          "color": "#636efa",
          "symbol": "circle"
         },
         "mode": "lines",
         "name": "aL_25",
         "showlegend": false,
         "type": "scatter",
         "x": [
          0.021,
          0.052,
          0.088,
          0.112,
          0.135,
          0.17,
          0.196,
          0.232,
          0.268,
          0.297
         ],
         "xaxis": "x",
         "y": [
          0.027400384600713708,
          0.05441425732207943,
          0.08578520628882673,
          0.10669917226665827,
          0.12674172299541347,
          0.15724125671308448,
          0.17989805318906862,
          0.21126900215581593,
          0.24263995112256323,
          0.2679109933457763
         ],
         "yaxis": "y"
        },
        {
         "hovertemplate": "variable=aL_20<br>value=%{x}<br>fed=%{y}<extra></extra>",
         "legendgroup": "aL_20",
         "marker": {
          "color": "#EF553B",
          "symbol": "circle"
         },
         "mode": "markers",
         "name": "aL_20",
         "orientation": "v",
         "showlegend": true,
         "type": "scatter",
         "x": [
          0.03,
          0.067,
          0.105,
          0.142,
          0.183,
          0.207,
          0.257,
          0.292,
          0.34,
          0.375
         ],
         "xaxis": "x",
         "y": [
          0.027,
          0.053,
          0.08,
          0.106,
          0.133,
          0.159,
          0.186,
          0.212,
          0.239,
          0.265
         ],
         "yaxis": "y"
        },
        {
         "hovertemplate": "<b>OLS trendline</b><br>fed = 0.690272 * value + 0.0080836<br>R<sup>2</sup>=0.998348<br><br>variable=aL_20<br>value=%{x}<br>fed=%{y} <b>(trend)</b><extra></extra>",
         "legendgroup": "aL_20",
         "marker": {
          "color": "#EF553B",
          "symbol": "circle"
         },
         "mode": "lines",
         "name": "aL_20",
         "showlegend": false,
         "type": "scatter",
         "x": [
          0.03,
          0.067,
          0.105,
          0.142,
          0.183,
          0.207,
          0.257,
          0.292,
          0.34,
          0.375
         ],
         "xaxis": "x",
         "y": [
          0.028791765357894475,
          0.054331840044336784,
          0.08056218701960184,
          0.10610226170604414,
          0.1344034255477775,
          0.15096996047952388,
          0.18548357492066214,
          0.20964310502945888,
          0.2427761748929516,
          0.26693570500174835
         ],
         "yaxis": "y"
        },
        {
         "hovertemplate": "variable=aL_15<br>value=%{x}<br>fed=%{y}<extra></extra>",
         "legendgroup": "aL_15",
         "marker": {
          "color": "#00cc96",
          "symbol": "circle"
         },
         "mode": "markers",
         "name": "aL_15",
         "orientation": "v",
         "showlegend": true,
         "type": "scatter",
         "x": [
          0.043,
          0.091,
          0.14,
          0.193,
          0.243,
          0.283,
          0.34,
          0.382,
          0.44,
          0.497
         ],
         "xaxis": "x",
         "y": [
          0.027,
          0.053,
          0.08,
          0.106,
          0.133,
          0.159,
          0.186,
          0.212,
          0.239,
          0.265
         ],
         "yaxis": "y"
        },
        {
         "hovertemplate": "<b>OLS trendline</b><br>fed = 0.531156 * value + 0.0051373<br>R<sup>2</sup>=0.999119<br><br>variable=aL_15<br>value=%{x}<br>fed=%{y} <b>(trend)</b><extra></extra>",
         "legendgroup": "aL_15",
         "marker": {
          "color": "#00cc96",
          "symbol": "circle"
         },
         "mode": "lines",
         "name": "aL_15",
         "showlegend": false,
         "type": "scatter",
         "x": [
          0.043,
          0.091,
          0.14,
          0.193,
          0.243,
          0.283,
          0.34,
          0.382,
          0.44,
          0.497
         ],
         "xaxis": "x",
         "y": [
          0.027977026401925165,
          0.053472538250294153,
          0.07949920659550416,
          0.10765050092807824,
          0.13420832577012926,
          0.15545458564377007,
          0.18573050596370827,
          0.20803907883103112,
          0.2388461556478103,
          0.26912207596774845
         ],
         "yaxis": "y"
        },
        {
         "hovertemplate": "variable=aL_10<br>value=%{x}<br>fed=%{y}<extra></extra>",
         "legendgroup": "aL_10",
         "marker": {
          "color": "#ab63fa",
          "symbol": "circle"
         },
         "mode": "markers",
         "name": "aL_10",
         "orientation": "v",
         "showlegend": true,
         "type": "scatter",
         "x": [
          0.067,
          0.145,
          0.21,
          0.28,
          0.348,
          0.437,
          0.5,
          0.592,
          0.66,
          0.75
         ],
         "xaxis": "x",
         "y": [
          0.027,
          0.053,
          0.08,
          0.106,
          0.133,
          0.159,
          0.186,
          0.212,
          0.239,
          0.265
         ],
         "yaxis": "y"
        },
        {
         "hovertemplate": "<b>OLS trendline</b><br>fed = 0.351578 * value + 0.00575574<br>R<sup>2</sup>=0.998421<br><br>variable=aL_10<br>value=%{x}<br>fed=%{y} <b>(trend)</b><extra></extra>",
         "legendgroup": "aL_10",
         "marker": {
          "color": "#ab63fa",
          "symbol": "circle"
         },
         "mode": "lines",
         "name": "aL_10",
         "showlegend": false,
         "type": "scatter",
         "x": [
          0.067,
          0.145,
          0.21,
          0.28,
          0.348,
          0.437,
          0.5,
          0.592,
          0.66,
          0.75
         ],
         "xaxis": "x",
         "y": [
          0.029311427653967177,
          0.05673447267653589,
          0.07958701019534314,
          0.10419743521559716,
          0.12810470523527243,
          0.15939510276102392,
          0.1815444852792525,
          0.213889615305872,
          0.2377968853255473,
          0.2694388603515881
         ],
         "yaxis": "y"
        },
        {
         "hovertemplate": "variable=aL_5<br>value=%{x}<br>fed=%{y}<extra></extra>",
         "legendgroup": "aL_5",
         "marker": {
          "color": "#FFA15A",
          "symbol": "circle"
         },
         "mode": "markers",
         "name": "aL_5",
         "orientation": "v",
         "showlegend": true,
         "type": "scatter",
         "x": [
          0.124,
          0.283,
          0.43,
          0.574,
          0.72,
          0.852,
          1.011,
          1.174,
          1.313,
          1.46
         ],
         "xaxis": "x",
         "y": [
          0.027,
          0.053,
          0.08,
          0.106,
          0.133,
          0.159,
          0.186,
          0.212,
          0.239,
          0.265
         ],
         "yaxis": "y"
        },
        {
         "hovertemplate": "<b>OLS trendline</b><br>fed = 0.179071 * value + 0.00379939<br>R<sup>2</sup>=0.999712<br><br>variable=aL_5<br>value=%{x}<br>fed=%{y} <b>(trend)</b><extra></extra>",
         "legendgroup": "aL_5",
         "marker": {
          "color": "#FFA15A",
          "symbol": "circle"
         },
         "mode": "lines",
         "name": "aL_5",
         "showlegend": false,
         "type": "scatter",
         "x": [
          0.124,
          0.283,
          0.43,
          0.574,
          0.72,
          0.852,
          1.011,
          1.174,
          1.313,
          1.46
         ],
         "xaxis": "x",
         "y": [
          0.026004246068911017,
          0.054476600754843195,
          0.08080009848334653,
          0.10658638197249265,
          0.13273080828787692,
          0.15636823481959422,
          0.1848405895055264,
          0.21402922984393485,
          0.23892015626748564,
          0.265243653995989
         ],
         "yaxis": "y"
        },
        {
         "hovertemplate": "variable=aS_25<br>value=%{x}<br>fed=%{y}<extra></extra>",
         "legendgroup": "aS_25",
         "marker": {
          "color": "#19d3f3",
          "symbol": "circle"
         },
         "mode": "markers",
         "name": "aS_25",
         "orientation": "v",
         "showlegend": true,
         "type": "scatter",
         "x": [
          0.021,
          0.046,
          0.072,
          0.101,
          0.132,
          0.164,
          0.197,
          0.234,
          0.273,
          0.311
         ],
         "xaxis": "x",
         "y": [
          0.027,
          0.053,
          0.08,
          0.106,
          0.133,
          0.159,
          0.186,
          0.212,
          0.239,
          0.265
         ],
         "yaxis": "y"
        },
        {
         "hovertemplate": "<b>OLS trendline</b><br>fed = 0.815667 * value + 0.01949<br>R<sup>2</sup>=0.994657<br><br>variable=aS_25<br>value=%{x}<br>fed=%{y} <b>(trend)</b><extra></extra>",
         "legendgroup": "aS_25",
         "marker": {
          "color": "#19d3f3",
          "symbol": "circle"
         },
         "mode": "lines",
         "name": "aS_25",
         "showlegend": false,
         "type": "scatter",
         "x": [
          0.021,
          0.046,
          0.072,
          0.101,
          0.132,
          0.164,
          0.197,
          0.234,
          0.273,
          0.311
         ],
         "xaxis": "x",
         "y": [
          0.03661902472233747,
          0.05701070542287112,
          0.07821805335142612,
          0.10187240296404518,
          0.12715808703270692,
          0.15325943832939,
          0.18017645685409445,
          0.21035614429088426,
          0.24216716618371678,
          0.27316252084852793
         ],
         "yaxis": "y"
        },
        {
         "hovertemplate": "variable=aS_20<br>value=%{x}<br>fed=%{y}<extra></extra>",
         "legendgroup": "aS_20",
         "marker": {
          "color": "#FF6692",
          "symbol": "circle"
         },
         "mode": "markers",
         "name": "aS_20",
         "orientation": "v",
         "showlegend": true,
         "type": "scatter",
         "x": [
          0.031,
          0.064,
          0.1,
          0.136,
          0.176,
          0.217,
          0.259,
          0.302,
          0.348,
          0.394
         ],
         "xaxis": "x",
         "y": [
          0.027,
          0.053,
          0.08,
          0.106,
          0.133,
          0.159,
          0.186,
          0.212,
          0.239,
          0.265
         ],
         "yaxis": "y"
        },
        {
         "hovertemplate": "<b>OLS trendline</b><br>fed = 0.65298 * value + 0.0136409<br>R<sup>2</sup>=0.997400<br><br>variable=aS_20<br>value=%{x}<br>fed=%{y} <b>(trend)</b><extra></extra>",
         "legendgroup": "aS_20",
         "marker": {
          "color": "#FF6692",
          "symbol": "circle"
         },
         "mode": "lines",
         "name": "aS_20",
         "showlegend": false,
         "type": "scatter",
         "x": [
          0.031,
          0.064,
          0.1,
          0.136,
          0.176,
          0.217,
          0.259,
          0.302,
          0.348,
          0.394
         ],
         "xaxis": "x",
         "y": [
          0.033883293282637825,
          0.055431641108339355,
          0.07893892964546831,
          0.10244621818259725,
          0.12856542766829607,
          0.15533761739113738,
          0.18276278735112117,
          0.2108409375482474,
          0.24087802845680104,
          0.27091511936535473
         ],
         "yaxis": "y"
        },
        {
         "hovertemplate": "variable=aS_15<br>value=%{x}<br>fed=%{y}<extra></extra>",
         "legendgroup": "aS_15",
         "marker": {
          "color": "#B6E880",
          "symbol": "circle"
         },
         "mode": "markers",
         "name": "aS_15",
         "orientation": "v",
         "showlegend": true,
         "type": "scatter",
         "x": [
          0.044,
          0.089,
          0.137,
          0.187,
          0.237,
          0.288,
          0.34,
          0.393,
          0.447,
          0.502
         ],
         "xaxis": "x",
         "y": [
          0.027,
          0.053,
          0.08,
          0.106,
          0.133,
          0.159,
          0.186,
          0.212,
          0.239,
          0.265
         ],
         "yaxis": "y"
        },
        {
         "hovertemplate": "<b>OLS trendline</b><br>fed = 0.518777 * value + 0.00779782<br>R<sup>2</sup>=0.999320<br><br>variable=aS_15<br>value=%{x}<br>fed=%{y} <b>(trend)</b><extra></extra>",
         "legendgroup": "aS_15",
         "marker": {
          "color": "#B6E880",
          "symbol": "circle"
         },
         "mode": "lines",
         "name": "aS_15",
         "showlegend": false,
         "type": "scatter",
         "x": [
          0.044,
          0.089,
          0.137,
          0.187,
          0.237,
          0.288,
          0.34,
          0.393,
          0.447,
          0.502
         ],
         "xaxis": "x",
         "y": [
          0.030624004795225552,
          0.05396896785374554,
          0.07887026178283355,
          0.10480910962563353,
          0.1307479574684335,
          0.15720558226808948,
          0.18418198402460148,
          0.21167716273796947,
          0.23969111840819346,
          0.26822385103527346
         ],
         "yaxis": "y"
        },
        {
         "hovertemplate": "variable=aS_10<br>value=%{x}<br>fed=%{y}<extra></extra>",
         "legendgroup": "aS_10",
         "marker": {
          "color": "#FF97FF",
          "symbol": "circle"
         },
         "mode": "markers",
         "name": "aS_10",
         "orientation": "v",
         "showlegend": true,
         "type": "scatter",
         "x": [
          0.067,
          0.136,
          0.209,
          0.28,
          0.356,
          0.433,
          0.511,
          0.59,
          0.671,
          0.752
         ],
         "xaxis": "x",
         "y": [
          0.027,
          0.053,
          0.08,
          0.106,
          0.133,
          0.159,
          0.186,
          0.212,
          0.239,
          0.265
         ],
         "yaxis": "y"
        },
        {
         "hovertemplate": "<b>OLS trendline</b><br>fed = 0.347018 * value + 0.00701925<br>R<sup>2</sup>=0.999361<br><br>variable=aS_10<br>value=%{x}<br>fed=%{y} <b>(trend)</b><extra></extra>",
         "legendgroup": "aS_10",
         "marker": {
          "color": "#FF97FF",
          "symbol": "circle"
         },
         "mode": "lines",
         "name": "aS_10",
         "showlegend": false,
         "type": "scatter",
         "x": [
          0.067,
          0.136,
          0.209,
          0.28,
          0.356,
          0.433,
          0.511,
          0.59,
          0.671,
          0.752
         ],
         "xaxis": "x",
         "y": [
          0.03026946650161521,
          0.054213714811625846,
          0.07954603548743419,
          0.1041843199803437,
          0.13055769493050035,
          0.1572780879721064,
          0.18434549910516193,
          0.21175992832966684,
          0.23986839373707067,
          0.26797685914447444
         ],
         "yaxis": "y"
        },
        {
         "hovertemplate": "variable=aS_5<br>value=%{x}<br>fed=%{y}<extra></extra>",
         "legendgroup": "aS_5",
         "marker": {
          "color": "#FECB52",
          "symbol": "circle"
         },
         "mode": "markers",
         "name": "aS_5",
         "orientation": "v",
         "showlegend": true,
         "type": "scatter",
         "x": [
          0.136,
          0.278,
          0.423,
          0.568,
          0.712,
          0.857,
          1.007,
          1.154,
          1.301,
          1.451
         ],
         "xaxis": "x",
         "y": [
          0.027,
          0.053,
          0.08,
          0.106,
          0.133,
          0.159,
          0.186,
          0.212,
          0.239,
          0.265
         ],
         "yaxis": "y"
        },
        {
         "hovertemplate": "<b>OLS trendline</b><br>fed = 0.181221 * value + 0.00307069<br>R<sup>2</sup>=0.999943<br><br>variable=aS_5<br>value=%{x}<br>fed=%{y} <b>(trend)</b><extra></extra>",
         "legendgroup": "aS_5",
         "marker": {
          "color": "#FECB52",
          "symbol": "circle"
         },
         "mode": "lines",
         "name": "aS_5",
         "showlegend": false,
         "type": "scatter",
         "x": [
          0.136,
          0.278,
          0.423,
          0.568,
          0.712,
          0.857,
          1.007,
          1.154,
          1.301,
          1.451
         ],
         "xaxis": "x",
         "y": [
          0.02771680128234926,
          0.05345023811076417,
          0.07972733909752587,
          0.10600444008428757,
          0.1321003196849337,
          0.15837742067169538,
          0.18556062858903508,
          0.21220017234802796,
          0.23883971610702087,
          0.26602292402436056
         ],
         "yaxis": "y"
        }
       ],
       "layout": {
        "legend": {
         "title": {
          "text": "Ilość zwojów"
         },
         "tracegroupgap": 0
        },
        "margin": {
         "t": 60
        },
        "template": {
         "data": {
          "bar": [
           {
            "error_x": {
             "color": "#2a3f5f"
            },
            "error_y": {
             "color": "#2a3f5f"
            },
            "marker": {
             "line": {
              "color": "#E5ECF6",
              "width": 0.5
             },
             "pattern": {
              "fillmode": "overlay",
              "size": 10,
              "solidity": 0.2
             }
            },
            "type": "bar"
           }
          ],
          "barpolar": [
           {
            "marker": {
             "line": {
              "color": "#E5ECF6",
              "width": 0.5
             },
             "pattern": {
              "fillmode": "overlay",
              "size": 10,
              "solidity": 0.2
             }
            },
            "type": "barpolar"
           }
          ],
          "carpet": [
           {
            "aaxis": {
             "endlinecolor": "#2a3f5f",
             "gridcolor": "white",
             "linecolor": "white",
             "minorgridcolor": "white",
             "startlinecolor": "#2a3f5f"
            },
            "baxis": {
             "endlinecolor": "#2a3f5f",
             "gridcolor": "white",
             "linecolor": "white",
             "minorgridcolor": "white",
             "startlinecolor": "#2a3f5f"
            },
            "type": "carpet"
           }
          ],
          "choropleth": [
           {
            "colorbar": {
             "outlinewidth": 0,
             "ticks": ""
            },
            "type": "choropleth"
           }
          ],
          "contour": [
           {
            "colorbar": {
             "outlinewidth": 0,
             "ticks": ""
            },
            "colorscale": [
             [
              0,
              "#0d0887"
             ],
             [
              0.1111111111111111,
              "#46039f"
             ],
             [
              0.2222222222222222,
              "#7201a8"
             ],
             [
              0.3333333333333333,
              "#9c179e"
             ],
             [
              0.4444444444444444,
              "#bd3786"
             ],
             [
              0.5555555555555556,
              "#d8576b"
             ],
             [
              0.6666666666666666,
              "#ed7953"
             ],
             [
              0.7777777777777778,
              "#fb9f3a"
             ],
             [
              0.8888888888888888,
              "#fdca26"
             ],
             [
              1,
              "#f0f921"
             ]
            ],
            "type": "contour"
           }
          ],
          "contourcarpet": [
           {
            "colorbar": {
             "outlinewidth": 0,
             "ticks": ""
            },
            "type": "contourcarpet"
           }
          ],
          "heatmap": [
           {
            "colorbar": {
             "outlinewidth": 0,
             "ticks": ""
            },
            "colorscale": [
             [
              0,
              "#0d0887"
             ],
             [
              0.1111111111111111,
              "#46039f"
             ],
             [
              0.2222222222222222,
              "#7201a8"
             ],
             [
              0.3333333333333333,
              "#9c179e"
             ],
             [
              0.4444444444444444,
              "#bd3786"
             ],
             [
              0.5555555555555556,
              "#d8576b"
             ],
             [
              0.6666666666666666,
              "#ed7953"
             ],
             [
              0.7777777777777778,
              "#fb9f3a"
             ],
             [
              0.8888888888888888,
              "#fdca26"
             ],
             [
              1,
              "#f0f921"
             ]
            ],
            "type": "heatmap"
           }
          ],
          "heatmapgl": [
           {
            "colorbar": {
             "outlinewidth": 0,
             "ticks": ""
            },
            "colorscale": [
             [
              0,
              "#0d0887"
             ],
             [
              0.1111111111111111,
              "#46039f"
             ],
             [
              0.2222222222222222,
              "#7201a8"
             ],
             [
              0.3333333333333333,
              "#9c179e"
             ],
             [
              0.4444444444444444,
              "#bd3786"
             ],
             [
              0.5555555555555556,
              "#d8576b"
             ],
             [
              0.6666666666666666,
              "#ed7953"
             ],
             [
              0.7777777777777778,
              "#fb9f3a"
             ],
             [
              0.8888888888888888,
              "#fdca26"
             ],
             [
              1,
              "#f0f921"
             ]
            ],
            "type": "heatmapgl"
           }
          ],
          "histogram": [
           {
            "marker": {
             "pattern": {
              "fillmode": "overlay",
              "size": 10,
              "solidity": 0.2
             }
            },
            "type": "histogram"
           }
          ],
          "histogram2d": [
           {
            "colorbar": {
             "outlinewidth": 0,
             "ticks": ""
            },
            "colorscale": [
             [
              0,
              "#0d0887"
             ],
             [
              0.1111111111111111,
              "#46039f"
             ],
             [
              0.2222222222222222,
              "#7201a8"
             ],
             [
              0.3333333333333333,
              "#9c179e"
             ],
             [
              0.4444444444444444,
              "#bd3786"
             ],
             [
              0.5555555555555556,
              "#d8576b"
             ],
             [
              0.6666666666666666,
              "#ed7953"
             ],
             [
              0.7777777777777778,
              "#fb9f3a"
             ],
             [
              0.8888888888888888,
              "#fdca26"
             ],
             [
              1,
              "#f0f921"
             ]
            ],
            "type": "histogram2d"
           }
          ],
          "histogram2dcontour": [
           {
            "colorbar": {
             "outlinewidth": 0,
             "ticks": ""
            },
            "colorscale": [
             [
              0,
              "#0d0887"
             ],
             [
              0.1111111111111111,
              "#46039f"
             ],
             [
              0.2222222222222222,
              "#7201a8"
             ],
             [
              0.3333333333333333,
              "#9c179e"
             ],
             [
              0.4444444444444444,
              "#bd3786"
             ],
             [
              0.5555555555555556,
              "#d8576b"
             ],
             [
              0.6666666666666666,
              "#ed7953"
             ],
             [
              0.7777777777777778,
              "#fb9f3a"
             ],
             [
              0.8888888888888888,
              "#fdca26"
             ],
             [
              1,
              "#f0f921"
             ]
            ],
            "type": "histogram2dcontour"
           }
          ],
          "mesh3d": [
           {
            "colorbar": {
             "outlinewidth": 0,
             "ticks": ""
            },
            "type": "mesh3d"
           }
          ],
          "parcoords": [
           {
            "line": {
             "colorbar": {
              "outlinewidth": 0,
              "ticks": ""
             }
            },
            "type": "parcoords"
           }
          ],
          "pie": [
           {
            "automargin": true,
            "type": "pie"
           }
          ],
          "scatter": [
           {
            "marker": {
             "colorbar": {
              "outlinewidth": 0,
              "ticks": ""
             }
            },
            "type": "scatter"
           }
          ],
          "scatter3d": [
           {
            "line": {
             "colorbar": {
              "outlinewidth": 0,
              "ticks": ""
             }
            },
            "marker": {
             "colorbar": {
              "outlinewidth": 0,
              "ticks": ""
             }
            },
            "type": "scatter3d"
           }
          ],
          "scattercarpet": [
           {
            "marker": {
             "colorbar": {
              "outlinewidth": 0,
              "ticks": ""
             }
            },
            "type": "scattercarpet"
           }
          ],
          "scattergeo": [
           {
            "marker": {
             "colorbar": {
              "outlinewidth": 0,
              "ticks": ""
             }
            },
            "type": "scattergeo"
           }
          ],
          "scattergl": [
           {
            "marker": {
             "colorbar": {
              "outlinewidth": 0,
              "ticks": ""
             }
            },
            "type": "scattergl"
           }
          ],
          "scattermapbox": [
           {
            "marker": {
             "colorbar": {
              "outlinewidth": 0,
              "ticks": ""
             }
            },
            "type": "scattermapbox"
           }
          ],
          "scatterpolar": [
           {
            "marker": {
             "colorbar": {
              "outlinewidth": 0,
              "ticks": ""
             }
            },
            "type": "scatterpolar"
           }
          ],
          "scatterpolargl": [
           {
            "marker": {
             "colorbar": {
              "outlinewidth": 0,
              "ticks": ""
             }
            },
            "type": "scatterpolargl"
           }
          ],
          "scatterternary": [
           {
            "marker": {
             "colorbar": {
              "outlinewidth": 0,
              "ticks": ""
             }
            },
            "type": "scatterternary"
           }
          ],
          "surface": [
           {
            "colorbar": {
             "outlinewidth": 0,
             "ticks": ""
            },
            "colorscale": [
             [
              0,
              "#0d0887"
             ],
             [
              0.1111111111111111,
              "#46039f"
             ],
             [
              0.2222222222222222,
              "#7201a8"
             ],
             [
              0.3333333333333333,
              "#9c179e"
             ],
             [
              0.4444444444444444,
              "#bd3786"
             ],
             [
              0.5555555555555556,
              "#d8576b"
             ],
             [
              0.6666666666666666,
              "#ed7953"
             ],
             [
              0.7777777777777778,
              "#fb9f3a"
             ],
             [
              0.8888888888888888,
              "#fdca26"
             ],
             [
              1,
              "#f0f921"
             ]
            ],
            "type": "surface"
           }
          ],
          "table": [
           {
            "cells": {
             "fill": {
              "color": "#EBF0F8"
             },
             "line": {
              "color": "white"
             }
            },
            "header": {
             "fill": {
              "color": "#C8D4E3"
             },
             "line": {
              "color": "white"
             }
            },
            "type": "table"
           }
          ]
         },
         "layout": {
          "annotationdefaults": {
           "arrowcolor": "#2a3f5f",
           "arrowhead": 0,
           "arrowwidth": 1
          },
          "autotypenumbers": "strict",
          "coloraxis": {
           "colorbar": {
            "outlinewidth": 0,
            "ticks": ""
           }
          },
          "colorscale": {
           "diverging": [
            [
             0,
             "#8e0152"
            ],
            [
             0.1,
             "#c51b7d"
            ],
            [
             0.2,
             "#de77ae"
            ],
            [
             0.3,
             "#f1b6da"
            ],
            [
             0.4,
             "#fde0ef"
            ],
            [
             0.5,
             "#f7f7f7"
            ],
            [
             0.6,
             "#e6f5d0"
            ],
            [
             0.7,
             "#b8e186"
            ],
            [
             0.8,
             "#7fbc41"
            ],
            [
             0.9,
             "#4d9221"
            ],
            [
             1,
             "#276419"
            ]
           ],
           "sequential": [
            [
             0,
             "#0d0887"
            ],
            [
             0.1111111111111111,
             "#46039f"
            ],
            [
             0.2222222222222222,
             "#7201a8"
            ],
            [
             0.3333333333333333,
             "#9c179e"
            ],
            [
             0.4444444444444444,
             "#bd3786"
            ],
            [
             0.5555555555555556,
             "#d8576b"
            ],
            [
             0.6666666666666666,
             "#ed7953"
            ],
            [
             0.7777777777777778,
             "#fb9f3a"
            ],
            [
             0.8888888888888888,
             "#fdca26"
            ],
            [
             1,
             "#f0f921"
            ]
           ],
           "sequentialminus": [
            [
             0,
             "#0d0887"
            ],
            [
             0.1111111111111111,
             "#46039f"
            ],
            [
             0.2222222222222222,
             "#7201a8"
            ],
            [
             0.3333333333333333,
             "#9c179e"
            ],
            [
             0.4444444444444444,
             "#bd3786"
            ],
            [
             0.5555555555555556,
             "#d8576b"
            ],
            [
             0.6666666666666666,
             "#ed7953"
            ],
            [
             0.7777777777777778,
             "#fb9f3a"
            ],
            [
             0.8888888888888888,
             "#fdca26"
            ],
            [
             1,
             "#f0f921"
            ]
           ]
          },
          "colorway": [
           "#636efa",
           "#EF553B",
           "#00cc96",
           "#ab63fa",
           "#FFA15A",
           "#19d3f3",
           "#FF6692",
           "#B6E880",
           "#FF97FF",
           "#FECB52"
          ],
          "font": {
           "color": "#2a3f5f"
          },
          "geo": {
           "bgcolor": "white",
           "lakecolor": "white",
           "landcolor": "#E5ECF6",
           "showlakes": true,
           "showland": true,
           "subunitcolor": "white"
          },
          "hoverlabel": {
           "align": "left"
          },
          "hovermode": "closest",
          "mapbox": {
           "style": "light"
          },
          "paper_bgcolor": "white",
          "plot_bgcolor": "#E5ECF6",
          "polar": {
           "angularaxis": {
            "gridcolor": "white",
            "linecolor": "white",
            "ticks": ""
           },
           "bgcolor": "#E5ECF6",
           "radialaxis": {
            "gridcolor": "white",
            "linecolor": "white",
            "ticks": ""
           }
          },
          "scene": {
           "xaxis": {
            "backgroundcolor": "#E5ECF6",
            "gridcolor": "white",
            "gridwidth": 2,
            "linecolor": "white",
            "showbackground": true,
            "ticks": "",
            "zerolinecolor": "white"
           },
           "yaxis": {
            "backgroundcolor": "#E5ECF6",
            "gridcolor": "white",
            "gridwidth": 2,
            "linecolor": "white",
            "showbackground": true,
            "ticks": "",
            "zerolinecolor": "white"
           },
           "zaxis": {
            "backgroundcolor": "#E5ECF6",
            "gridcolor": "white",
            "gridwidth": 2,
            "linecolor": "white",
            "showbackground": true,
            "ticks": "",
            "zerolinecolor": "white"
           }
          },
          "shapedefaults": {
           "line": {
            "color": "#2a3f5f"
           }
          },
          "ternary": {
           "aaxis": {
            "gridcolor": "white",
            "linecolor": "white",
            "ticks": ""
           },
           "baxis": {
            "gridcolor": "white",
            "linecolor": "white",
            "ticks": ""
           },
           "bgcolor": "#E5ECF6",
           "caxis": {
            "gridcolor": "white",
            "linecolor": "white",
            "ticks": ""
           }
          },
          "title": {
           "x": 0.05
          },
          "xaxis": {
           "automargin": true,
           "gridcolor": "white",
           "linecolor": "white",
           "ticks": "",
           "title": {
            "standoff": 15
           },
           "zerolinecolor": "white",
           "zerolinewidth": 2
          },
          "yaxis": {
           "automargin": true,
           "gridcolor": "white",
           "linecolor": "white",
           "ticks": "",
           "title": {
            "standoff": 15
           },
           "zerolinecolor": "white",
           "zerolinewidth": 2
          }
         }
        },
        "title": {
         "text": "Zależność F<sub>ed</sub> od I"
        },
        "xaxis": {
         "anchor": "y",
         "domain": [
          0,
          1
         ],
         "title": {
          "text": "Natężenie I [A]"
         }
        },
        "yaxis": {
         "anchor": "x",
         "domain": [
          0,
          1
         ],
         "title": {
          "text": "F<sub>ed</sub> -  siła elektrodynamiczna [N]"
         }
        }
       }
      },
      "text/html": [
       "<div>                            <div id=\"3c38feee-8687-434a-aae8-a703832ed1a0\" class=\"plotly-graph-div\" style=\"height:525px; width:100%;\"></div>            <script type=\"text/javascript\">                require([\"plotly\"], function(Plotly) {                    window.PLOTLYENV=window.PLOTLYENV || {};                                    if (document.getElementById(\"3c38feee-8687-434a-aae8-a703832ed1a0\")) {                    Plotly.newPlot(                        \"3c38feee-8687-434a-aae8-a703832ed1a0\",                        [{\"hovertemplate\":\"variable=aL_25<br>value=%{x}<br>fed=%{y}<extra></extra>\",\"legendgroup\":\"aL_25\",\"marker\":{\"color\":\"#636efa\",\"symbol\":\"circle\"},\"mode\":\"markers\",\"name\":\"aL_25\",\"orientation\":\"v\",\"showlegend\":true,\"x\":[0.021,0.052,0.088,0.112,0.135,0.17,0.196,0.232,0.268,0.297],\"xaxis\":\"x\",\"y\":[0.027,0.053,0.08,0.106,0.133,0.159,0.186,0.212,0.239,0.265],\"yaxis\":\"y\",\"type\":\"scatter\"},{\"hovertemplate\":\"<b>OLS trendline</b><br>fed = 0.871415 * value + 0.00910066<br>R<sup>2</sup>=0.997618<br><br>variable=aL_25<br>value=%{x}<br>fed=%{y} <b>(trend)</b><extra></extra>\",\"legendgroup\":\"aL_25\",\"marker\":{\"color\":\"#636efa\",\"symbol\":\"circle\"},\"mode\":\"lines\",\"name\":\"aL_25\",\"showlegend\":false,\"x\":[0.021,0.052,0.088,0.112,0.135,0.17,0.196,0.232,0.268,0.297],\"xaxis\":\"x\",\"y\":[0.027400384600713708,0.05441425732207943,0.08578520628882673,0.10669917226665827,0.12674172299541347,0.15724125671308448,0.17989805318906862,0.21126900215581593,0.24263995112256323,0.2679109933457763],\"yaxis\":\"y\",\"type\":\"scatter\"},{\"hovertemplate\":\"variable=aL_20<br>value=%{x}<br>fed=%{y}<extra></extra>\",\"legendgroup\":\"aL_20\",\"marker\":{\"color\":\"#EF553B\",\"symbol\":\"circle\"},\"mode\":\"markers\",\"name\":\"aL_20\",\"orientation\":\"v\",\"showlegend\":true,\"x\":[0.03,0.067,0.105,0.142,0.183,0.207,0.257,0.292,0.34,0.375],\"xaxis\":\"x\",\"y\":[0.027,0.053,0.08,0.106,0.133,0.159,0.186,0.212,0.239,0.265],\"yaxis\":\"y\",\"type\":\"scatter\"},{\"hovertemplate\":\"<b>OLS trendline</b><br>fed = 0.690272 * value + 0.0080836<br>R<sup>2</sup>=0.998348<br><br>variable=aL_20<br>value=%{x}<br>fed=%{y} <b>(trend)</b><extra></extra>\",\"legendgroup\":\"aL_20\",\"marker\":{\"color\":\"#EF553B\",\"symbol\":\"circle\"},\"mode\":\"lines\",\"name\":\"aL_20\",\"showlegend\":false,\"x\":[0.03,0.067,0.105,0.142,0.183,0.207,0.257,0.292,0.34,0.375],\"xaxis\":\"x\",\"y\":[0.028791765357894475,0.054331840044336784,0.08056218701960184,0.10610226170604414,0.1344034255477775,0.15096996047952388,0.18548357492066214,0.20964310502945888,0.2427761748929516,0.26693570500174835],\"yaxis\":\"y\",\"type\":\"scatter\"},{\"hovertemplate\":\"variable=aL_15<br>value=%{x}<br>fed=%{y}<extra></extra>\",\"legendgroup\":\"aL_15\",\"marker\":{\"color\":\"#00cc96\",\"symbol\":\"circle\"},\"mode\":\"markers\",\"name\":\"aL_15\",\"orientation\":\"v\",\"showlegend\":true,\"x\":[0.043,0.091,0.14,0.193,0.243,0.283,0.34,0.382,0.44,0.497],\"xaxis\":\"x\",\"y\":[0.027,0.053,0.08,0.106,0.133,0.159,0.186,0.212,0.239,0.265],\"yaxis\":\"y\",\"type\":\"scatter\"},{\"hovertemplate\":\"<b>OLS trendline</b><br>fed = 0.531156 * value + 0.0051373<br>R<sup>2</sup>=0.999119<br><br>variable=aL_15<br>value=%{x}<br>fed=%{y} <b>(trend)</b><extra></extra>\",\"legendgroup\":\"aL_15\",\"marker\":{\"color\":\"#00cc96\",\"symbol\":\"circle\"},\"mode\":\"lines\",\"name\":\"aL_15\",\"showlegend\":false,\"x\":[0.043,0.091,0.14,0.193,0.243,0.283,0.34,0.382,0.44,0.497],\"xaxis\":\"x\",\"y\":[0.027977026401925165,0.053472538250294153,0.07949920659550416,0.10765050092807824,0.13420832577012926,0.15545458564377007,0.18573050596370827,0.20803907883103112,0.2388461556478103,0.26912207596774845],\"yaxis\":\"y\",\"type\":\"scatter\"},{\"hovertemplate\":\"variable=aL_10<br>value=%{x}<br>fed=%{y}<extra></extra>\",\"legendgroup\":\"aL_10\",\"marker\":{\"color\":\"#ab63fa\",\"symbol\":\"circle\"},\"mode\":\"markers\",\"name\":\"aL_10\",\"orientation\":\"v\",\"showlegend\":true,\"x\":[0.067,0.145,0.21,0.28,0.348,0.437,0.5,0.592,0.66,0.75],\"xaxis\":\"x\",\"y\":[0.027,0.053,0.08,0.106,0.133,0.159,0.186,0.212,0.239,0.265],\"yaxis\":\"y\",\"type\":\"scatter\"},{\"hovertemplate\":\"<b>OLS trendline</b><br>fed = 0.351578 * value + 0.00575574<br>R<sup>2</sup>=0.998421<br><br>variable=aL_10<br>value=%{x}<br>fed=%{y} <b>(trend)</b><extra></extra>\",\"legendgroup\":\"aL_10\",\"marker\":{\"color\":\"#ab63fa\",\"symbol\":\"circle\"},\"mode\":\"lines\",\"name\":\"aL_10\",\"showlegend\":false,\"x\":[0.067,0.145,0.21,0.28,0.348,0.437,0.5,0.592,0.66,0.75],\"xaxis\":\"x\",\"y\":[0.029311427653967177,0.05673447267653589,0.07958701019534314,0.10419743521559716,0.12810470523527243,0.15939510276102392,0.1815444852792525,0.213889615305872,0.2377968853255473,0.2694388603515881],\"yaxis\":\"y\",\"type\":\"scatter\"},{\"hovertemplate\":\"variable=aL_5<br>value=%{x}<br>fed=%{y}<extra></extra>\",\"legendgroup\":\"aL_5\",\"marker\":{\"color\":\"#FFA15A\",\"symbol\":\"circle\"},\"mode\":\"markers\",\"name\":\"aL_5\",\"orientation\":\"v\",\"showlegend\":true,\"x\":[0.124,0.283,0.43,0.574,0.72,0.852,1.011,1.174,1.313,1.46],\"xaxis\":\"x\",\"y\":[0.027,0.053,0.08,0.106,0.133,0.159,0.186,0.212,0.239,0.265],\"yaxis\":\"y\",\"type\":\"scatter\"},{\"hovertemplate\":\"<b>OLS trendline</b><br>fed = 0.179071 * value + 0.00379939<br>R<sup>2</sup>=0.999712<br><br>variable=aL_5<br>value=%{x}<br>fed=%{y} <b>(trend)</b><extra></extra>\",\"legendgroup\":\"aL_5\",\"marker\":{\"color\":\"#FFA15A\",\"symbol\":\"circle\"},\"mode\":\"lines\",\"name\":\"aL_5\",\"showlegend\":false,\"x\":[0.124,0.283,0.43,0.574,0.72,0.852,1.011,1.174,1.313,1.46],\"xaxis\":\"x\",\"y\":[0.026004246068911017,0.054476600754843195,0.08080009848334653,0.10658638197249265,0.13273080828787692,0.15636823481959422,0.1848405895055264,0.21402922984393485,0.23892015626748564,0.265243653995989],\"yaxis\":\"y\",\"type\":\"scatter\"},{\"hovertemplate\":\"variable=aS_25<br>value=%{x}<br>fed=%{y}<extra></extra>\",\"legendgroup\":\"aS_25\",\"marker\":{\"color\":\"#19d3f3\",\"symbol\":\"circle\"},\"mode\":\"markers\",\"name\":\"aS_25\",\"orientation\":\"v\",\"showlegend\":true,\"x\":[0.021,0.046,0.072,0.101,0.132,0.164,0.197,0.234,0.273,0.311],\"xaxis\":\"x\",\"y\":[0.027,0.053,0.08,0.106,0.133,0.159,0.186,0.212,0.239,0.265],\"yaxis\":\"y\",\"type\":\"scatter\"},{\"hovertemplate\":\"<b>OLS trendline</b><br>fed = 0.815667 * value + 0.01949<br>R<sup>2</sup>=0.994657<br><br>variable=aS_25<br>value=%{x}<br>fed=%{y} <b>(trend)</b><extra></extra>\",\"legendgroup\":\"aS_25\",\"marker\":{\"color\":\"#19d3f3\",\"symbol\":\"circle\"},\"mode\":\"lines\",\"name\":\"aS_25\",\"showlegend\":false,\"x\":[0.021,0.046,0.072,0.101,0.132,0.164,0.197,0.234,0.273,0.311],\"xaxis\":\"x\",\"y\":[0.03661902472233747,0.05701070542287112,0.07821805335142612,0.10187240296404518,0.12715808703270692,0.15325943832939,0.18017645685409445,0.21035614429088426,0.24216716618371678,0.27316252084852793],\"yaxis\":\"y\",\"type\":\"scatter\"},{\"hovertemplate\":\"variable=aS_20<br>value=%{x}<br>fed=%{y}<extra></extra>\",\"legendgroup\":\"aS_20\",\"marker\":{\"color\":\"#FF6692\",\"symbol\":\"circle\"},\"mode\":\"markers\",\"name\":\"aS_20\",\"orientation\":\"v\",\"showlegend\":true,\"x\":[0.031,0.064,0.1,0.136,0.176,0.217,0.259,0.302,0.348,0.394],\"xaxis\":\"x\",\"y\":[0.027,0.053,0.08,0.106,0.133,0.159,0.186,0.212,0.239,0.265],\"yaxis\":\"y\",\"type\":\"scatter\"},{\"hovertemplate\":\"<b>OLS trendline</b><br>fed = 0.65298 * value + 0.0136409<br>R<sup>2</sup>=0.997400<br><br>variable=aS_20<br>value=%{x}<br>fed=%{y} <b>(trend)</b><extra></extra>\",\"legendgroup\":\"aS_20\",\"marker\":{\"color\":\"#FF6692\",\"symbol\":\"circle\"},\"mode\":\"lines\",\"name\":\"aS_20\",\"showlegend\":false,\"x\":[0.031,0.064,0.1,0.136,0.176,0.217,0.259,0.302,0.348,0.394],\"xaxis\":\"x\",\"y\":[0.033883293282637825,0.055431641108339355,0.07893892964546831,0.10244621818259725,0.12856542766829607,0.15533761739113738,0.18276278735112117,0.2108409375482474,0.24087802845680104,0.27091511936535473],\"yaxis\":\"y\",\"type\":\"scatter\"},{\"hovertemplate\":\"variable=aS_15<br>value=%{x}<br>fed=%{y}<extra></extra>\",\"legendgroup\":\"aS_15\",\"marker\":{\"color\":\"#B6E880\",\"symbol\":\"circle\"},\"mode\":\"markers\",\"name\":\"aS_15\",\"orientation\":\"v\",\"showlegend\":true,\"x\":[0.044,0.089,0.137,0.187,0.237,0.288,0.34,0.393,0.447,0.502],\"xaxis\":\"x\",\"y\":[0.027,0.053,0.08,0.106,0.133,0.159,0.186,0.212,0.239,0.265],\"yaxis\":\"y\",\"type\":\"scatter\"},{\"hovertemplate\":\"<b>OLS trendline</b><br>fed = 0.518777 * value + 0.00779782<br>R<sup>2</sup>=0.999320<br><br>variable=aS_15<br>value=%{x}<br>fed=%{y} <b>(trend)</b><extra></extra>\",\"legendgroup\":\"aS_15\",\"marker\":{\"color\":\"#B6E880\",\"symbol\":\"circle\"},\"mode\":\"lines\",\"name\":\"aS_15\",\"showlegend\":false,\"x\":[0.044,0.089,0.137,0.187,0.237,0.288,0.34,0.393,0.447,0.502],\"xaxis\":\"x\",\"y\":[0.030624004795225552,0.05396896785374554,0.07887026178283355,0.10480910962563353,0.1307479574684335,0.15720558226808948,0.18418198402460148,0.21167716273796947,0.23969111840819346,0.26822385103527346],\"yaxis\":\"y\",\"type\":\"scatter\"},{\"hovertemplate\":\"variable=aS_10<br>value=%{x}<br>fed=%{y}<extra></extra>\",\"legendgroup\":\"aS_10\",\"marker\":{\"color\":\"#FF97FF\",\"symbol\":\"circle\"},\"mode\":\"markers\",\"name\":\"aS_10\",\"orientation\":\"v\",\"showlegend\":true,\"x\":[0.067,0.136,0.209,0.28,0.356,0.433,0.511,0.59,0.671,0.752],\"xaxis\":\"x\",\"y\":[0.027,0.053,0.08,0.106,0.133,0.159,0.186,0.212,0.239,0.265],\"yaxis\":\"y\",\"type\":\"scatter\"},{\"hovertemplate\":\"<b>OLS trendline</b><br>fed = 0.347018 * value + 0.00701925<br>R<sup>2</sup>=0.999361<br><br>variable=aS_10<br>value=%{x}<br>fed=%{y} <b>(trend)</b><extra></extra>\",\"legendgroup\":\"aS_10\",\"marker\":{\"color\":\"#FF97FF\",\"symbol\":\"circle\"},\"mode\":\"lines\",\"name\":\"aS_10\",\"showlegend\":false,\"x\":[0.067,0.136,0.209,0.28,0.356,0.433,0.511,0.59,0.671,0.752],\"xaxis\":\"x\",\"y\":[0.03026946650161521,0.054213714811625846,0.07954603548743419,0.1041843199803437,0.13055769493050035,0.1572780879721064,0.18434549910516193,0.21175992832966684,0.23986839373707067,0.26797685914447444],\"yaxis\":\"y\",\"type\":\"scatter\"},{\"hovertemplate\":\"variable=aS_5<br>value=%{x}<br>fed=%{y}<extra></extra>\",\"legendgroup\":\"aS_5\",\"marker\":{\"color\":\"#FECB52\",\"symbol\":\"circle\"},\"mode\":\"markers\",\"name\":\"aS_5\",\"orientation\":\"v\",\"showlegend\":true,\"x\":[0.136,0.278,0.423,0.568,0.712,0.857,1.007,1.154,1.301,1.451],\"xaxis\":\"x\",\"y\":[0.027,0.053,0.08,0.106,0.133,0.159,0.186,0.212,0.239,0.265],\"yaxis\":\"y\",\"type\":\"scatter\"},{\"hovertemplate\":\"<b>OLS trendline</b><br>fed = 0.181221 * value + 0.00307069<br>R<sup>2</sup>=0.999943<br><br>variable=aS_5<br>value=%{x}<br>fed=%{y} <b>(trend)</b><extra></extra>\",\"legendgroup\":\"aS_5\",\"marker\":{\"color\":\"#FECB52\",\"symbol\":\"circle\"},\"mode\":\"lines\",\"name\":\"aS_5\",\"showlegend\":false,\"x\":[0.136,0.278,0.423,0.568,0.712,0.857,1.007,1.154,1.301,1.451],\"xaxis\":\"x\",\"y\":[0.02771680128234926,0.05345023811076417,0.07972733909752587,0.10600444008428757,0.1321003196849337,0.15837742067169538,0.18556062858903508,0.21220017234802796,0.23883971610702087,0.26602292402436056],\"yaxis\":\"y\",\"type\":\"scatter\"}],                        {\"template\":{\"data\":{\"bar\":[{\"error_x\":{\"color\":\"#2a3f5f\"},\"error_y\":{\"color\":\"#2a3f5f\"},\"marker\":{\"line\":{\"color\":\"#E5ECF6\",\"width\":0.5},\"pattern\":{\"fillmode\":\"overlay\",\"size\":10,\"solidity\":0.2}},\"type\":\"bar\"}],\"barpolar\":[{\"marker\":{\"line\":{\"color\":\"#E5ECF6\",\"width\":0.5},\"pattern\":{\"fillmode\":\"overlay\",\"size\":10,\"solidity\":0.2}},\"type\":\"barpolar\"}],\"carpet\":[{\"aaxis\":{\"endlinecolor\":\"#2a3f5f\",\"gridcolor\":\"white\",\"linecolor\":\"white\",\"minorgridcolor\":\"white\",\"startlinecolor\":\"#2a3f5f\"},\"baxis\":{\"endlinecolor\":\"#2a3f5f\",\"gridcolor\":\"white\",\"linecolor\":\"white\",\"minorgridcolor\":\"white\",\"startlinecolor\":\"#2a3f5f\"},\"type\":\"carpet\"}],\"choropleth\":[{\"colorbar\":{\"outlinewidth\":0,\"ticks\":\"\"},\"type\":\"choropleth\"}],\"contour\":[{\"colorbar\":{\"outlinewidth\":0,\"ticks\":\"\"},\"colorscale\":[[0.0,\"#0d0887\"],[0.1111111111111111,\"#46039f\"],[0.2222222222222222,\"#7201a8\"],[0.3333333333333333,\"#9c179e\"],[0.4444444444444444,\"#bd3786\"],[0.5555555555555556,\"#d8576b\"],[0.6666666666666666,\"#ed7953\"],[0.7777777777777778,\"#fb9f3a\"],[0.8888888888888888,\"#fdca26\"],[1.0,\"#f0f921\"]],\"type\":\"contour\"}],\"contourcarpet\":[{\"colorbar\":{\"outlinewidth\":0,\"ticks\":\"\"},\"type\":\"contourcarpet\"}],\"heatmap\":[{\"colorbar\":{\"outlinewidth\":0,\"ticks\":\"\"},\"colorscale\":[[0.0,\"#0d0887\"],[0.1111111111111111,\"#46039f\"],[0.2222222222222222,\"#7201a8\"],[0.3333333333333333,\"#9c179e\"],[0.4444444444444444,\"#bd3786\"],[0.5555555555555556,\"#d8576b\"],[0.6666666666666666,\"#ed7953\"],[0.7777777777777778,\"#fb9f3a\"],[0.8888888888888888,\"#fdca26\"],[1.0,\"#f0f921\"]],\"type\":\"heatmap\"}],\"heatmapgl\":[{\"colorbar\":{\"outlinewidth\":0,\"ticks\":\"\"},\"colorscale\":[[0.0,\"#0d0887\"],[0.1111111111111111,\"#46039f\"],[0.2222222222222222,\"#7201a8\"],[0.3333333333333333,\"#9c179e\"],[0.4444444444444444,\"#bd3786\"],[0.5555555555555556,\"#d8576b\"],[0.6666666666666666,\"#ed7953\"],[0.7777777777777778,\"#fb9f3a\"],[0.8888888888888888,\"#fdca26\"],[1.0,\"#f0f921\"]],\"type\":\"heatmapgl\"}],\"histogram\":[{\"marker\":{\"pattern\":{\"fillmode\":\"overlay\",\"size\":10,\"solidity\":0.2}},\"type\":\"histogram\"}],\"histogram2d\":[{\"colorbar\":{\"outlinewidth\":0,\"ticks\":\"\"},\"colorscale\":[[0.0,\"#0d0887\"],[0.1111111111111111,\"#46039f\"],[0.2222222222222222,\"#7201a8\"],[0.3333333333333333,\"#9c179e\"],[0.4444444444444444,\"#bd3786\"],[0.5555555555555556,\"#d8576b\"],[0.6666666666666666,\"#ed7953\"],[0.7777777777777778,\"#fb9f3a\"],[0.8888888888888888,\"#fdca26\"],[1.0,\"#f0f921\"]],\"type\":\"histogram2d\"}],\"histogram2dcontour\":[{\"colorbar\":{\"outlinewidth\":0,\"ticks\":\"\"},\"colorscale\":[[0.0,\"#0d0887\"],[0.1111111111111111,\"#46039f\"],[0.2222222222222222,\"#7201a8\"],[0.3333333333333333,\"#9c179e\"],[0.4444444444444444,\"#bd3786\"],[0.5555555555555556,\"#d8576b\"],[0.6666666666666666,\"#ed7953\"],[0.7777777777777778,\"#fb9f3a\"],[0.8888888888888888,\"#fdca26\"],[1.0,\"#f0f921\"]],\"type\":\"histogram2dcontour\"}],\"mesh3d\":[{\"colorbar\":{\"outlinewidth\":0,\"ticks\":\"\"},\"type\":\"mesh3d\"}],\"parcoords\":[{\"line\":{\"colorbar\":{\"outlinewidth\":0,\"ticks\":\"\"}},\"type\":\"parcoords\"}],\"pie\":[{\"automargin\":true,\"type\":\"pie\"}],\"scatter\":[{\"marker\":{\"colorbar\":{\"outlinewidth\":0,\"ticks\":\"\"}},\"type\":\"scatter\"}],\"scatter3d\":[{\"line\":{\"colorbar\":{\"outlinewidth\":0,\"ticks\":\"\"}},\"marker\":{\"colorbar\":{\"outlinewidth\":0,\"ticks\":\"\"}},\"type\":\"scatter3d\"}],\"scattercarpet\":[{\"marker\":{\"colorbar\":{\"outlinewidth\":0,\"ticks\":\"\"}},\"type\":\"scattercarpet\"}],\"scattergeo\":[{\"marker\":{\"colorbar\":{\"outlinewidth\":0,\"ticks\":\"\"}},\"type\":\"scattergeo\"}],\"scattergl\":[{\"marker\":{\"colorbar\":{\"outlinewidth\":0,\"ticks\":\"\"}},\"type\":\"scattergl\"}],\"scattermapbox\":[{\"marker\":{\"colorbar\":{\"outlinewidth\":0,\"ticks\":\"\"}},\"type\":\"scattermapbox\"}],\"scatterpolar\":[{\"marker\":{\"colorbar\":{\"outlinewidth\":0,\"ticks\":\"\"}},\"type\":\"scatterpolar\"}],\"scatterpolargl\":[{\"marker\":{\"colorbar\":{\"outlinewidth\":0,\"ticks\":\"\"}},\"type\":\"scatterpolargl\"}],\"scatterternary\":[{\"marker\":{\"colorbar\":{\"outlinewidth\":0,\"ticks\":\"\"}},\"type\":\"scatterternary\"}],\"surface\":[{\"colorbar\":{\"outlinewidth\":0,\"ticks\":\"\"},\"colorscale\":[[0.0,\"#0d0887\"],[0.1111111111111111,\"#46039f\"],[0.2222222222222222,\"#7201a8\"],[0.3333333333333333,\"#9c179e\"],[0.4444444444444444,\"#bd3786\"],[0.5555555555555556,\"#d8576b\"],[0.6666666666666666,\"#ed7953\"],[0.7777777777777778,\"#fb9f3a\"],[0.8888888888888888,\"#fdca26\"],[1.0,\"#f0f921\"]],\"type\":\"surface\"}],\"table\":[{\"cells\":{\"fill\":{\"color\":\"#EBF0F8\"},\"line\":{\"color\":\"white\"}},\"header\":{\"fill\":{\"color\":\"#C8D4E3\"},\"line\":{\"color\":\"white\"}},\"type\":\"table\"}]},\"layout\":{\"annotationdefaults\":{\"arrowcolor\":\"#2a3f5f\",\"arrowhead\":0,\"arrowwidth\":1},\"autotypenumbers\":\"strict\",\"coloraxis\":{\"colorbar\":{\"outlinewidth\":0,\"ticks\":\"\"}},\"colorscale\":{\"diverging\":[[0,\"#8e0152\"],[0.1,\"#c51b7d\"],[0.2,\"#de77ae\"],[0.3,\"#f1b6da\"],[0.4,\"#fde0ef\"],[0.5,\"#f7f7f7\"],[0.6,\"#e6f5d0\"],[0.7,\"#b8e186\"],[0.8,\"#7fbc41\"],[0.9,\"#4d9221\"],[1,\"#276419\"]],\"sequential\":[[0.0,\"#0d0887\"],[0.1111111111111111,\"#46039f\"],[0.2222222222222222,\"#7201a8\"],[0.3333333333333333,\"#9c179e\"],[0.4444444444444444,\"#bd3786\"],[0.5555555555555556,\"#d8576b\"],[0.6666666666666666,\"#ed7953\"],[0.7777777777777778,\"#fb9f3a\"],[0.8888888888888888,\"#fdca26\"],[1.0,\"#f0f921\"]],\"sequentialminus\":[[0.0,\"#0d0887\"],[0.1111111111111111,\"#46039f\"],[0.2222222222222222,\"#7201a8\"],[0.3333333333333333,\"#9c179e\"],[0.4444444444444444,\"#bd3786\"],[0.5555555555555556,\"#d8576b\"],[0.6666666666666666,\"#ed7953\"],[0.7777777777777778,\"#fb9f3a\"],[0.8888888888888888,\"#fdca26\"],[1.0,\"#f0f921\"]]},\"colorway\":[\"#636efa\",\"#EF553B\",\"#00cc96\",\"#ab63fa\",\"#FFA15A\",\"#19d3f3\",\"#FF6692\",\"#B6E880\",\"#FF97FF\",\"#FECB52\"],\"font\":{\"color\":\"#2a3f5f\"},\"geo\":{\"bgcolor\":\"white\",\"lakecolor\":\"white\",\"landcolor\":\"#E5ECF6\",\"showlakes\":true,\"showland\":true,\"subunitcolor\":\"white\"},\"hoverlabel\":{\"align\":\"left\"},\"hovermode\":\"closest\",\"mapbox\":{\"style\":\"light\"},\"paper_bgcolor\":\"white\",\"plot_bgcolor\":\"#E5ECF6\",\"polar\":{\"angularaxis\":{\"gridcolor\":\"white\",\"linecolor\":\"white\",\"ticks\":\"\"},\"bgcolor\":\"#E5ECF6\",\"radialaxis\":{\"gridcolor\":\"white\",\"linecolor\":\"white\",\"ticks\":\"\"}},\"scene\":{\"xaxis\":{\"backgroundcolor\":\"#E5ECF6\",\"gridcolor\":\"white\",\"gridwidth\":2,\"linecolor\":\"white\",\"showbackground\":true,\"ticks\":\"\",\"zerolinecolor\":\"white\"},\"yaxis\":{\"backgroundcolor\":\"#E5ECF6\",\"gridcolor\":\"white\",\"gridwidth\":2,\"linecolor\":\"white\",\"showbackground\":true,\"ticks\":\"\",\"zerolinecolor\":\"white\"},\"zaxis\":{\"backgroundcolor\":\"#E5ECF6\",\"gridcolor\":\"white\",\"gridwidth\":2,\"linecolor\":\"white\",\"showbackground\":true,\"ticks\":\"\",\"zerolinecolor\":\"white\"}},\"shapedefaults\":{\"line\":{\"color\":\"#2a3f5f\"}},\"ternary\":{\"aaxis\":{\"gridcolor\":\"white\",\"linecolor\":\"white\",\"ticks\":\"\"},\"baxis\":{\"gridcolor\":\"white\",\"linecolor\":\"white\",\"ticks\":\"\"},\"bgcolor\":\"#E5ECF6\",\"caxis\":{\"gridcolor\":\"white\",\"linecolor\":\"white\",\"ticks\":\"\"}},\"title\":{\"x\":0.05},\"xaxis\":{\"automargin\":true,\"gridcolor\":\"white\",\"linecolor\":\"white\",\"ticks\":\"\",\"title\":{\"standoff\":15},\"zerolinecolor\":\"white\",\"zerolinewidth\":2},\"yaxis\":{\"automargin\":true,\"gridcolor\":\"white\",\"linecolor\":\"white\",\"ticks\":\"\",\"title\":{\"standoff\":15},\"zerolinecolor\":\"white\",\"zerolinewidth\":2}}},\"xaxis\":{\"anchor\":\"y\",\"domain\":[0.0,1.0],\"title\":{\"text\":\"Nat\\u0119\\u017cenie I [A]\"}},\"yaxis\":{\"anchor\":\"x\",\"domain\":[0.0,1.0],\"title\":{\"text\":\"F<sub>ed</sub> -  si\\u0142a elektrodynamiczna [N]\"}},\"legend\":{\"title\":{\"text\":\"Ilo\\u015b\\u0107 zwoj\\u00f3w\"},\"tracegroupgap\":0},\"margin\":{\"t\":60},\"title\":{\"text\":\"Zale\\u017cno\\u015b\\u0107 F<sub>ed</sub> od I\"}},                        {\"responsive\": true}                    ).then(function(){\n",
       "                            \n",
       "var gd = document.getElementById('3c38feee-8687-434a-aae8-a703832ed1a0');\n",
       "var x = new MutationObserver(function (mutations, observer) {{\n",
       "        var display = window.getComputedStyle(gd).display;\n",
       "        if (!display || display === 'none') {{\n",
       "            console.log([gd, 'removed!']);\n",
       "            Plotly.purge(gd);\n",
       "            observer.disconnect();\n",
       "        }}\n",
       "}});\n",
       "\n",
       "// Listen for the removal of the full notebook cells\n",
       "var notebookContainer = gd.closest('#notebook-container');\n",
       "if (notebookContainer) {{\n",
       "    x.observe(notebookContainer, {childList: true});\n",
       "}}\n",
       "\n",
       "// Listen for the clearing of the current output cell\n",
       "var outputEl = gd.closest('.output');\n",
       "if (outputEl) {{\n",
       "    x.observe(outputEl, {childList: true});\n",
       "}}\n",
       "\n",
       "                        })                };                });            </script>        </div>"
      ]
     },
     "metadata": {},
     "output_type": "display_data"
    }
   ],
   "source": [
    "fig = px.scatter(df, y=\"fed\", x=[\"aL_25\", \"aL_20\", \"aL_15\", \"aL_10\", \"aL_5\", \"aS_25\", \"aS_20\", \"aS_15\", \"aS_10\", \"aS_5\"], trendline=\"ols\")\n",
    "fig.update_layout(\n",
    "    title_text = \"Zależność F<sub>ed</sub> od I\",\n",
    "    xaxis_title_text = \"Natężenie I [A]\",\n",
    "    yaxis_title_text = \"F<sub>ed</sub> -  siła elektrodynamiczna [N]\",\n",
    "    legend_title_text = \"Ilość zwojów\")\n",
    "fig.show()"
   ]
  },
  {
   "cell_type": "markdown",
   "id": "c8f47ba8",
   "metadata": {},
   "source": [
    "# Odczytanie danych z powyższego wykresu i wpisanie ich w pola poniżej\n",
    "#### w celu uzyskania większej precyzji odczytu wykres można przybliżyć"
   ]
  },
  {
   "cell_type": "code",
   "execution_count": 138,
   "id": "a292604d",
   "metadata": {},
   "outputs": [
    {
     "name": "stdout",
     "output_type": "stream",
     "text": [
      "Siła Fed w danym punkcie w zakresie 0.15 - 0.25 A:\n"
     ]
    },
    {
     "data": {
      "application/vnd.jupyter.widget-view+json": {
       "model_id": "9f47ee21deac43b0b5d565a743a0caf3",
       "version_major": 2,
       "version_minor": 0
      },
      "text/plain": [
       "FloatText(value=0.0, description='5 zwojów:')"
      ]
     },
     "metadata": {},
     "output_type": "display_data"
    },
    {
     "data": {
      "application/vnd.jupyter.widget-view+json": {
       "model_id": "5d18e98761df4b7dac12ab091e93f1e0",
       "version_major": 2,
       "version_minor": 0
      },
      "text/plain": [
       "FloatText(value=0.0, description='10 zwojów:')"
      ]
     },
     "metadata": {},
     "output_type": "display_data"
    },
    {
     "data": {
      "application/vnd.jupyter.widget-view+json": {
       "model_id": "c0c1fb9229504af1a01fd64d8b4fa8c3",
       "version_major": 2,
       "version_minor": 0
      },
      "text/plain": [
       "FloatText(value=0.0, description='15 zwojów:')"
      ]
     },
     "metadata": {},
     "output_type": "display_data"
    },
    {
     "data": {
      "application/vnd.jupyter.widget-view+json": {
       "model_id": "934ae6e82de3414395d8190b69d1901c",
       "version_major": 2,
       "version_minor": 0
      },
      "text/plain": [
       "FloatText(value=0.0, description='20 zwojów:')"
      ]
     },
     "metadata": {},
     "output_type": "display_data"
    },
    {
     "data": {
      "application/vnd.jupyter.widget-view+json": {
       "model_id": "699284187a46498ba7a19db079bf44cf",
       "version_major": 2,
       "version_minor": 0
      },
      "text/plain": [
       "FloatText(value=0.0, description='25 zwojów:')"
      ]
     },
     "metadata": {},
     "output_type": "display_data"
    }
   ],
   "source": [
    "print(\"Siła Fed w danym punkcie w zakresie 0.15 - 0.25 A:\")\n",
    "z5 = widgets.FloatText(description=\"5 zwojów:\" )\n",
    "z10 = widgets.FloatText(description=\"10 zwojów:\" )\n",
    "z15 = widgets.FloatText(description=\"15 zwojów:\" )\n",
    "z20 = widgets.FloatText(description=\"20 zwojów:\" )\n",
    "z25 = widgets.FloatText(description=\"25 zwojów:\" )\n",
    "display(z5, z10, z15, z20, z25)"
   ]
  },
  {
   "cell_type": "markdown",
   "id": "e09a0998",
   "metadata": {},
   "source": [
    "# Utworzeniu wykresu zależności F<sub>ed</sub> od ilości uzwojeń"
   ]
  },
  {
   "cell_type": "code",
   "execution_count": 137,
   "id": "716d7d0e",
   "metadata": {
    "scrolled": false
   },
   "outputs": [
    {
     "data": {
      "application/vnd.plotly.v1+json": {
       "config": {
        "plotlyServerURL": "https://plot.ly"
       },
       "data": [
        {
         "type": "scatter",
         "x": [
          0.038,
          0.073,
          0.107,
          0.141,
          0.177
         ],
         "y": [
          0.0256,
          0.0512,
          0.0768,
          0.1024,
          0.128,
          0.1536,
          0.1792,
          0.2048,
          0.2304,
          0.256
         ]
        }
       ],
       "layout": {
        "template": {
         "data": {
          "bar": [
           {
            "error_x": {
             "color": "#2a3f5f"
            },
            "error_y": {
             "color": "#2a3f5f"
            },
            "marker": {
             "line": {
              "color": "#E5ECF6",
              "width": 0.5
             },
             "pattern": {
              "fillmode": "overlay",
              "size": 10,
              "solidity": 0.2
             }
            },
            "type": "bar"
           }
          ],
          "barpolar": [
           {
            "marker": {
             "line": {
              "color": "#E5ECF6",
              "width": 0.5
             },
             "pattern": {
              "fillmode": "overlay",
              "size": 10,
              "solidity": 0.2
             }
            },
            "type": "barpolar"
           }
          ],
          "carpet": [
           {
            "aaxis": {
             "endlinecolor": "#2a3f5f",
             "gridcolor": "white",
             "linecolor": "white",
             "minorgridcolor": "white",
             "startlinecolor": "#2a3f5f"
            },
            "baxis": {
             "endlinecolor": "#2a3f5f",
             "gridcolor": "white",
             "linecolor": "white",
             "minorgridcolor": "white",
             "startlinecolor": "#2a3f5f"
            },
            "type": "carpet"
           }
          ],
          "choropleth": [
           {
            "colorbar": {
             "outlinewidth": 0,
             "ticks": ""
            },
            "type": "choropleth"
           }
          ],
          "contour": [
           {
            "colorbar": {
             "outlinewidth": 0,
             "ticks": ""
            },
            "colorscale": [
             [
              0,
              "#0d0887"
             ],
             [
              0.1111111111111111,
              "#46039f"
             ],
             [
              0.2222222222222222,
              "#7201a8"
             ],
             [
              0.3333333333333333,
              "#9c179e"
             ],
             [
              0.4444444444444444,
              "#bd3786"
             ],
             [
              0.5555555555555556,
              "#d8576b"
             ],
             [
              0.6666666666666666,
              "#ed7953"
             ],
             [
              0.7777777777777778,
              "#fb9f3a"
             ],
             [
              0.8888888888888888,
              "#fdca26"
             ],
             [
              1,
              "#f0f921"
             ]
            ],
            "type": "contour"
           }
          ],
          "contourcarpet": [
           {
            "colorbar": {
             "outlinewidth": 0,
             "ticks": ""
            },
            "type": "contourcarpet"
           }
          ],
          "heatmap": [
           {
            "colorbar": {
             "outlinewidth": 0,
             "ticks": ""
            },
            "colorscale": [
             [
              0,
              "#0d0887"
             ],
             [
              0.1111111111111111,
              "#46039f"
             ],
             [
              0.2222222222222222,
              "#7201a8"
             ],
             [
              0.3333333333333333,
              "#9c179e"
             ],
             [
              0.4444444444444444,
              "#bd3786"
             ],
             [
              0.5555555555555556,
              "#d8576b"
             ],
             [
              0.6666666666666666,
              "#ed7953"
             ],
             [
              0.7777777777777778,
              "#fb9f3a"
             ],
             [
              0.8888888888888888,
              "#fdca26"
             ],
             [
              1,
              "#f0f921"
             ]
            ],
            "type": "heatmap"
           }
          ],
          "heatmapgl": [
           {
            "colorbar": {
             "outlinewidth": 0,
             "ticks": ""
            },
            "colorscale": [
             [
              0,
              "#0d0887"
             ],
             [
              0.1111111111111111,
              "#46039f"
             ],
             [
              0.2222222222222222,
              "#7201a8"
             ],
             [
              0.3333333333333333,
              "#9c179e"
             ],
             [
              0.4444444444444444,
              "#bd3786"
             ],
             [
              0.5555555555555556,
              "#d8576b"
             ],
             [
              0.6666666666666666,
              "#ed7953"
             ],
             [
              0.7777777777777778,
              "#fb9f3a"
             ],
             [
              0.8888888888888888,
              "#fdca26"
             ],
             [
              1,
              "#f0f921"
             ]
            ],
            "type": "heatmapgl"
           }
          ],
          "histogram": [
           {
            "marker": {
             "pattern": {
              "fillmode": "overlay",
              "size": 10,
              "solidity": 0.2
             }
            },
            "type": "histogram"
           }
          ],
          "histogram2d": [
           {
            "colorbar": {
             "outlinewidth": 0,
             "ticks": ""
            },
            "colorscale": [
             [
              0,
              "#0d0887"
             ],
             [
              0.1111111111111111,
              "#46039f"
             ],
             [
              0.2222222222222222,
              "#7201a8"
             ],
             [
              0.3333333333333333,
              "#9c179e"
             ],
             [
              0.4444444444444444,
              "#bd3786"
             ],
             [
              0.5555555555555556,
              "#d8576b"
             ],
             [
              0.6666666666666666,
              "#ed7953"
             ],
             [
              0.7777777777777778,
              "#fb9f3a"
             ],
             [
              0.8888888888888888,
              "#fdca26"
             ],
             [
              1,
              "#f0f921"
             ]
            ],
            "type": "histogram2d"
           }
          ],
          "histogram2dcontour": [
           {
            "colorbar": {
             "outlinewidth": 0,
             "ticks": ""
            },
            "colorscale": [
             [
              0,
              "#0d0887"
             ],
             [
              0.1111111111111111,
              "#46039f"
             ],
             [
              0.2222222222222222,
              "#7201a8"
             ],
             [
              0.3333333333333333,
              "#9c179e"
             ],
             [
              0.4444444444444444,
              "#bd3786"
             ],
             [
              0.5555555555555556,
              "#d8576b"
             ],
             [
              0.6666666666666666,
              "#ed7953"
             ],
             [
              0.7777777777777778,
              "#fb9f3a"
             ],
             [
              0.8888888888888888,
              "#fdca26"
             ],
             [
              1,
              "#f0f921"
             ]
            ],
            "type": "histogram2dcontour"
           }
          ],
          "mesh3d": [
           {
            "colorbar": {
             "outlinewidth": 0,
             "ticks": ""
            },
            "type": "mesh3d"
           }
          ],
          "parcoords": [
           {
            "line": {
             "colorbar": {
              "outlinewidth": 0,
              "ticks": ""
             }
            },
            "type": "parcoords"
           }
          ],
          "pie": [
           {
            "automargin": true,
            "type": "pie"
           }
          ],
          "scatter": [
           {
            "marker": {
             "colorbar": {
              "outlinewidth": 0,
              "ticks": ""
             }
            },
            "type": "scatter"
           }
          ],
          "scatter3d": [
           {
            "line": {
             "colorbar": {
              "outlinewidth": 0,
              "ticks": ""
             }
            },
            "marker": {
             "colorbar": {
              "outlinewidth": 0,
              "ticks": ""
             }
            },
            "type": "scatter3d"
           }
          ],
          "scattercarpet": [
           {
            "marker": {
             "colorbar": {
              "outlinewidth": 0,
              "ticks": ""
             }
            },
            "type": "scattercarpet"
           }
          ],
          "scattergeo": [
           {
            "marker": {
             "colorbar": {
              "outlinewidth": 0,
              "ticks": ""
             }
            },
            "type": "scattergeo"
           }
          ],
          "scattergl": [
           {
            "marker": {
             "colorbar": {
              "outlinewidth": 0,
              "ticks": ""
             }
            },
            "type": "scattergl"
           }
          ],
          "scattermapbox": [
           {
            "marker": {
             "colorbar": {
              "outlinewidth": 0,
              "ticks": ""
             }
            },
            "type": "scattermapbox"
           }
          ],
          "scatterpolar": [
           {
            "marker": {
             "colorbar": {
              "outlinewidth": 0,
              "ticks": ""
             }
            },
            "type": "scatterpolar"
           }
          ],
          "scatterpolargl": [
           {
            "marker": {
             "colorbar": {
              "outlinewidth": 0,
              "ticks": ""
             }
            },
            "type": "scatterpolargl"
           }
          ],
          "scatterternary": [
           {
            "marker": {
             "colorbar": {
              "outlinewidth": 0,
              "ticks": ""
             }
            },
            "type": "scatterternary"
           }
          ],
          "surface": [
           {
            "colorbar": {
             "outlinewidth": 0,
             "ticks": ""
            },
            "colorscale": [
             [
              0,
              "#0d0887"
             ],
             [
              0.1111111111111111,
              "#46039f"
             ],
             [
              0.2222222222222222,
              "#7201a8"
             ],
             [
              0.3333333333333333,
              "#9c179e"
             ],
             [
              0.4444444444444444,
              "#bd3786"
             ],
             [
              0.5555555555555556,
              "#d8576b"
             ],
             [
              0.6666666666666666,
              "#ed7953"
             ],
             [
              0.7777777777777778,
              "#fb9f3a"
             ],
             [
              0.8888888888888888,
              "#fdca26"
             ],
             [
              1,
              "#f0f921"
             ]
            ],
            "type": "surface"
           }
          ],
          "table": [
           {
            "cells": {
             "fill": {
              "color": "#EBF0F8"
             },
             "line": {
              "color": "white"
             }
            },
            "header": {
             "fill": {
              "color": "#C8D4E3"
             },
             "line": {
              "color": "white"
             }
            },
            "type": "table"
           }
          ]
         },
         "layout": {
          "annotationdefaults": {
           "arrowcolor": "#2a3f5f",
           "arrowhead": 0,
           "arrowwidth": 1
          },
          "autotypenumbers": "strict",
          "coloraxis": {
           "colorbar": {
            "outlinewidth": 0,
            "ticks": ""
           }
          },
          "colorscale": {
           "diverging": [
            [
             0,
             "#8e0152"
            ],
            [
             0.1,
             "#c51b7d"
            ],
            [
             0.2,
             "#de77ae"
            ],
            [
             0.3,
             "#f1b6da"
            ],
            [
             0.4,
             "#fde0ef"
            ],
            [
             0.5,
             "#f7f7f7"
            ],
            [
             0.6,
             "#e6f5d0"
            ],
            [
             0.7,
             "#b8e186"
            ],
            [
             0.8,
             "#7fbc41"
            ],
            [
             0.9,
             "#4d9221"
            ],
            [
             1,
             "#276419"
            ]
           ],
           "sequential": [
            [
             0,
             "#0d0887"
            ],
            [
             0.1111111111111111,
             "#46039f"
            ],
            [
             0.2222222222222222,
             "#7201a8"
            ],
            [
             0.3333333333333333,
             "#9c179e"
            ],
            [
             0.4444444444444444,
             "#bd3786"
            ],
            [
             0.5555555555555556,
             "#d8576b"
            ],
            [
             0.6666666666666666,
             "#ed7953"
            ],
            [
             0.7777777777777778,
             "#fb9f3a"
            ],
            [
             0.8888888888888888,
             "#fdca26"
            ],
            [
             1,
             "#f0f921"
            ]
           ],
           "sequentialminus": [
            [
             0,
             "#0d0887"
            ],
            [
             0.1111111111111111,
             "#46039f"
            ],
            [
             0.2222222222222222,
             "#7201a8"
            ],
            [
             0.3333333333333333,
             "#9c179e"
            ],
            [
             0.4444444444444444,
             "#bd3786"
            ],
            [
             0.5555555555555556,
             "#d8576b"
            ],
            [
             0.6666666666666666,
             "#ed7953"
            ],
            [
             0.7777777777777778,
             "#fb9f3a"
            ],
            [
             0.8888888888888888,
             "#fdca26"
            ],
            [
             1,
             "#f0f921"
            ]
           ]
          },
          "colorway": [
           "#636efa",
           "#EF553B",
           "#00cc96",
           "#ab63fa",
           "#FFA15A",
           "#19d3f3",
           "#FF6692",
           "#B6E880",
           "#FF97FF",
           "#FECB52"
          ],
          "font": {
           "color": "#2a3f5f"
          },
          "geo": {
           "bgcolor": "white",
           "lakecolor": "white",
           "landcolor": "#E5ECF6",
           "showlakes": true,
           "showland": true,
           "subunitcolor": "white"
          },
          "hoverlabel": {
           "align": "left"
          },
          "hovermode": "closest",
          "mapbox": {
           "style": "light"
          },
          "paper_bgcolor": "white",
          "plot_bgcolor": "#E5ECF6",
          "polar": {
           "angularaxis": {
            "gridcolor": "white",
            "linecolor": "white",
            "ticks": ""
           },
           "bgcolor": "#E5ECF6",
           "radialaxis": {
            "gridcolor": "white",
            "linecolor": "white",
            "ticks": ""
           }
          },
          "scene": {
           "xaxis": {
            "backgroundcolor": "#E5ECF6",
            "gridcolor": "white",
            "gridwidth": 2,
            "linecolor": "white",
            "showbackground": true,
            "ticks": "",
            "zerolinecolor": "white"
           },
           "yaxis": {
            "backgroundcolor": "#E5ECF6",
            "gridcolor": "white",
            "gridwidth": 2,
            "linecolor": "white",
            "showbackground": true,
            "ticks": "",
            "zerolinecolor": "white"
           },
           "zaxis": {
            "backgroundcolor": "#E5ECF6",
            "gridcolor": "white",
            "gridwidth": 2,
            "linecolor": "white",
            "showbackground": true,
            "ticks": "",
            "zerolinecolor": "white"
           }
          },
          "shapedefaults": {
           "line": {
            "color": "#2a3f5f"
           }
          },
          "ternary": {
           "aaxis": {
            "gridcolor": "white",
            "linecolor": "white",
            "ticks": ""
           },
           "baxis": {
            "gridcolor": "white",
            "linecolor": "white",
            "ticks": ""
           },
           "bgcolor": "#E5ECF6",
           "caxis": {
            "gridcolor": "white",
            "linecolor": "white",
            "ticks": ""
           }
          },
          "title": {
           "x": 0.05
          },
          "xaxis": {
           "automargin": true,
           "gridcolor": "white",
           "linecolor": "white",
           "ticks": "",
           "title": {
            "standoff": 15
           },
           "zerolinecolor": "white",
           "zerolinewidth": 2
          },
          "yaxis": {
           "automargin": true,
           "gridcolor": "white",
           "linecolor": "white",
           "ticks": "",
           "title": {
            "standoff": 15
           },
           "zerolinecolor": "white",
           "zerolinewidth": 2
          }
         }
        },
        "title": {
         "text": "Zależność F<sub>ed</sub> od ilości uzwojeń"
        },
        "xaxis": {
         "title": {
          "text": "Ilość zwojów"
         }
        },
        "yaxis": {
         "title": {
          "text": "F<sub>ed</sub> -  siła elektrodynamiczna [N]"
         }
        }
       }
      },
      "text/html": [
       "<div>                            <div id=\"73c9845d-5aa5-4bed-8af8-481b42a4ec38\" class=\"plotly-graph-div\" style=\"height:525px; width:100%;\"></div>            <script type=\"text/javascript\">                require([\"plotly\"], function(Plotly) {                    window.PLOTLYENV=window.PLOTLYENV || {};                                    if (document.getElementById(\"73c9845d-5aa5-4bed-8af8-481b42a4ec38\")) {                    Plotly.newPlot(                        \"73c9845d-5aa5-4bed-8af8-481b42a4ec38\",                        [{\"x\":[0.038,0.073,0.107,0.141,0.177],\"y\":[0.0256,0.0512,0.0768,0.1024,0.128,0.1536,0.1792,0.2048,0.2304,0.256],\"type\":\"scatter\"}],                        {\"template\":{\"data\":{\"bar\":[{\"error_x\":{\"color\":\"#2a3f5f\"},\"error_y\":{\"color\":\"#2a3f5f\"},\"marker\":{\"line\":{\"color\":\"#E5ECF6\",\"width\":0.5},\"pattern\":{\"fillmode\":\"overlay\",\"size\":10,\"solidity\":0.2}},\"type\":\"bar\"}],\"barpolar\":[{\"marker\":{\"line\":{\"color\":\"#E5ECF6\",\"width\":0.5},\"pattern\":{\"fillmode\":\"overlay\",\"size\":10,\"solidity\":0.2}},\"type\":\"barpolar\"}],\"carpet\":[{\"aaxis\":{\"endlinecolor\":\"#2a3f5f\",\"gridcolor\":\"white\",\"linecolor\":\"white\",\"minorgridcolor\":\"white\",\"startlinecolor\":\"#2a3f5f\"},\"baxis\":{\"endlinecolor\":\"#2a3f5f\",\"gridcolor\":\"white\",\"linecolor\":\"white\",\"minorgridcolor\":\"white\",\"startlinecolor\":\"#2a3f5f\"},\"type\":\"carpet\"}],\"choropleth\":[{\"colorbar\":{\"outlinewidth\":0,\"ticks\":\"\"},\"type\":\"choropleth\"}],\"contour\":[{\"colorbar\":{\"outlinewidth\":0,\"ticks\":\"\"},\"colorscale\":[[0.0,\"#0d0887\"],[0.1111111111111111,\"#46039f\"],[0.2222222222222222,\"#7201a8\"],[0.3333333333333333,\"#9c179e\"],[0.4444444444444444,\"#bd3786\"],[0.5555555555555556,\"#d8576b\"],[0.6666666666666666,\"#ed7953\"],[0.7777777777777778,\"#fb9f3a\"],[0.8888888888888888,\"#fdca26\"],[1.0,\"#f0f921\"]],\"type\":\"contour\"}],\"contourcarpet\":[{\"colorbar\":{\"outlinewidth\":0,\"ticks\":\"\"},\"type\":\"contourcarpet\"}],\"heatmap\":[{\"colorbar\":{\"outlinewidth\":0,\"ticks\":\"\"},\"colorscale\":[[0.0,\"#0d0887\"],[0.1111111111111111,\"#46039f\"],[0.2222222222222222,\"#7201a8\"],[0.3333333333333333,\"#9c179e\"],[0.4444444444444444,\"#bd3786\"],[0.5555555555555556,\"#d8576b\"],[0.6666666666666666,\"#ed7953\"],[0.7777777777777778,\"#fb9f3a\"],[0.8888888888888888,\"#fdca26\"],[1.0,\"#f0f921\"]],\"type\":\"heatmap\"}],\"heatmapgl\":[{\"colorbar\":{\"outlinewidth\":0,\"ticks\":\"\"},\"colorscale\":[[0.0,\"#0d0887\"],[0.1111111111111111,\"#46039f\"],[0.2222222222222222,\"#7201a8\"],[0.3333333333333333,\"#9c179e\"],[0.4444444444444444,\"#bd3786\"],[0.5555555555555556,\"#d8576b\"],[0.6666666666666666,\"#ed7953\"],[0.7777777777777778,\"#fb9f3a\"],[0.8888888888888888,\"#fdca26\"],[1.0,\"#f0f921\"]],\"type\":\"heatmapgl\"}],\"histogram\":[{\"marker\":{\"pattern\":{\"fillmode\":\"overlay\",\"size\":10,\"solidity\":0.2}},\"type\":\"histogram\"}],\"histogram2d\":[{\"colorbar\":{\"outlinewidth\":0,\"ticks\":\"\"},\"colorscale\":[[0.0,\"#0d0887\"],[0.1111111111111111,\"#46039f\"],[0.2222222222222222,\"#7201a8\"],[0.3333333333333333,\"#9c179e\"],[0.4444444444444444,\"#bd3786\"],[0.5555555555555556,\"#d8576b\"],[0.6666666666666666,\"#ed7953\"],[0.7777777777777778,\"#fb9f3a\"],[0.8888888888888888,\"#fdca26\"],[1.0,\"#f0f921\"]],\"type\":\"histogram2d\"}],\"histogram2dcontour\":[{\"colorbar\":{\"outlinewidth\":0,\"ticks\":\"\"},\"colorscale\":[[0.0,\"#0d0887\"],[0.1111111111111111,\"#46039f\"],[0.2222222222222222,\"#7201a8\"],[0.3333333333333333,\"#9c179e\"],[0.4444444444444444,\"#bd3786\"],[0.5555555555555556,\"#d8576b\"],[0.6666666666666666,\"#ed7953\"],[0.7777777777777778,\"#fb9f3a\"],[0.8888888888888888,\"#fdca26\"],[1.0,\"#f0f921\"]],\"type\":\"histogram2dcontour\"}],\"mesh3d\":[{\"colorbar\":{\"outlinewidth\":0,\"ticks\":\"\"},\"type\":\"mesh3d\"}],\"parcoords\":[{\"line\":{\"colorbar\":{\"outlinewidth\":0,\"ticks\":\"\"}},\"type\":\"parcoords\"}],\"pie\":[{\"automargin\":true,\"type\":\"pie\"}],\"scatter\":[{\"marker\":{\"colorbar\":{\"outlinewidth\":0,\"ticks\":\"\"}},\"type\":\"scatter\"}],\"scatter3d\":[{\"line\":{\"colorbar\":{\"outlinewidth\":0,\"ticks\":\"\"}},\"marker\":{\"colorbar\":{\"outlinewidth\":0,\"ticks\":\"\"}},\"type\":\"scatter3d\"}],\"scattercarpet\":[{\"marker\":{\"colorbar\":{\"outlinewidth\":0,\"ticks\":\"\"}},\"type\":\"scattercarpet\"}],\"scattergeo\":[{\"marker\":{\"colorbar\":{\"outlinewidth\":0,\"ticks\":\"\"}},\"type\":\"scattergeo\"}],\"scattergl\":[{\"marker\":{\"colorbar\":{\"outlinewidth\":0,\"ticks\":\"\"}},\"type\":\"scattergl\"}],\"scattermapbox\":[{\"marker\":{\"colorbar\":{\"outlinewidth\":0,\"ticks\":\"\"}},\"type\":\"scattermapbox\"}],\"scatterpolar\":[{\"marker\":{\"colorbar\":{\"outlinewidth\":0,\"ticks\":\"\"}},\"type\":\"scatterpolar\"}],\"scatterpolargl\":[{\"marker\":{\"colorbar\":{\"outlinewidth\":0,\"ticks\":\"\"}},\"type\":\"scatterpolargl\"}],\"scatterternary\":[{\"marker\":{\"colorbar\":{\"outlinewidth\":0,\"ticks\":\"\"}},\"type\":\"scatterternary\"}],\"surface\":[{\"colorbar\":{\"outlinewidth\":0,\"ticks\":\"\"},\"colorscale\":[[0.0,\"#0d0887\"],[0.1111111111111111,\"#46039f\"],[0.2222222222222222,\"#7201a8\"],[0.3333333333333333,\"#9c179e\"],[0.4444444444444444,\"#bd3786\"],[0.5555555555555556,\"#d8576b\"],[0.6666666666666666,\"#ed7953\"],[0.7777777777777778,\"#fb9f3a\"],[0.8888888888888888,\"#fdca26\"],[1.0,\"#f0f921\"]],\"type\":\"surface\"}],\"table\":[{\"cells\":{\"fill\":{\"color\":\"#EBF0F8\"},\"line\":{\"color\":\"white\"}},\"header\":{\"fill\":{\"color\":\"#C8D4E3\"},\"line\":{\"color\":\"white\"}},\"type\":\"table\"}]},\"layout\":{\"annotationdefaults\":{\"arrowcolor\":\"#2a3f5f\",\"arrowhead\":0,\"arrowwidth\":1},\"autotypenumbers\":\"strict\",\"coloraxis\":{\"colorbar\":{\"outlinewidth\":0,\"ticks\":\"\"}},\"colorscale\":{\"diverging\":[[0,\"#8e0152\"],[0.1,\"#c51b7d\"],[0.2,\"#de77ae\"],[0.3,\"#f1b6da\"],[0.4,\"#fde0ef\"],[0.5,\"#f7f7f7\"],[0.6,\"#e6f5d0\"],[0.7,\"#b8e186\"],[0.8,\"#7fbc41\"],[0.9,\"#4d9221\"],[1,\"#276419\"]],\"sequential\":[[0.0,\"#0d0887\"],[0.1111111111111111,\"#46039f\"],[0.2222222222222222,\"#7201a8\"],[0.3333333333333333,\"#9c179e\"],[0.4444444444444444,\"#bd3786\"],[0.5555555555555556,\"#d8576b\"],[0.6666666666666666,\"#ed7953\"],[0.7777777777777778,\"#fb9f3a\"],[0.8888888888888888,\"#fdca26\"],[1.0,\"#f0f921\"]],\"sequentialminus\":[[0.0,\"#0d0887\"],[0.1111111111111111,\"#46039f\"],[0.2222222222222222,\"#7201a8\"],[0.3333333333333333,\"#9c179e\"],[0.4444444444444444,\"#bd3786\"],[0.5555555555555556,\"#d8576b\"],[0.6666666666666666,\"#ed7953\"],[0.7777777777777778,\"#fb9f3a\"],[0.8888888888888888,\"#fdca26\"],[1.0,\"#f0f921\"]]},\"colorway\":[\"#636efa\",\"#EF553B\",\"#00cc96\",\"#ab63fa\",\"#FFA15A\",\"#19d3f3\",\"#FF6692\",\"#B6E880\",\"#FF97FF\",\"#FECB52\"],\"font\":{\"color\":\"#2a3f5f\"},\"geo\":{\"bgcolor\":\"white\",\"lakecolor\":\"white\",\"landcolor\":\"#E5ECF6\",\"showlakes\":true,\"showland\":true,\"subunitcolor\":\"white\"},\"hoverlabel\":{\"align\":\"left\"},\"hovermode\":\"closest\",\"mapbox\":{\"style\":\"light\"},\"paper_bgcolor\":\"white\",\"plot_bgcolor\":\"#E5ECF6\",\"polar\":{\"angularaxis\":{\"gridcolor\":\"white\",\"linecolor\":\"white\",\"ticks\":\"\"},\"bgcolor\":\"#E5ECF6\",\"radialaxis\":{\"gridcolor\":\"white\",\"linecolor\":\"white\",\"ticks\":\"\"}},\"scene\":{\"xaxis\":{\"backgroundcolor\":\"#E5ECF6\",\"gridcolor\":\"white\",\"gridwidth\":2,\"linecolor\":\"white\",\"showbackground\":true,\"ticks\":\"\",\"zerolinecolor\":\"white\"},\"yaxis\":{\"backgroundcolor\":\"#E5ECF6\",\"gridcolor\":\"white\",\"gridwidth\":2,\"linecolor\":\"white\",\"showbackground\":true,\"ticks\":\"\",\"zerolinecolor\":\"white\"},\"zaxis\":{\"backgroundcolor\":\"#E5ECF6\",\"gridcolor\":\"white\",\"gridwidth\":2,\"linecolor\":\"white\",\"showbackground\":true,\"ticks\":\"\",\"zerolinecolor\":\"white\"}},\"shapedefaults\":{\"line\":{\"color\":\"#2a3f5f\"}},\"ternary\":{\"aaxis\":{\"gridcolor\":\"white\",\"linecolor\":\"white\",\"ticks\":\"\"},\"baxis\":{\"gridcolor\":\"white\",\"linecolor\":\"white\",\"ticks\":\"\"},\"bgcolor\":\"#E5ECF6\",\"caxis\":{\"gridcolor\":\"white\",\"linecolor\":\"white\",\"ticks\":\"\"}},\"title\":{\"x\":0.05},\"xaxis\":{\"automargin\":true,\"gridcolor\":\"white\",\"linecolor\":\"white\",\"ticks\":\"\",\"title\":{\"standoff\":15},\"zerolinecolor\":\"white\",\"zerolinewidth\":2},\"yaxis\":{\"automargin\":true,\"gridcolor\":\"white\",\"linecolor\":\"white\",\"ticks\":\"\",\"title\":{\"standoff\":15},\"zerolinecolor\":\"white\",\"zerolinewidth\":2}}},\"title\":{\"text\":\"Zale\\u017cno\\u015b\\u0107 F<sub>ed</sub> od ilo\\u015bci uzwoje\\u0144\"},\"xaxis\":{\"title\":{\"text\":\"Ilo\\u015b\\u0107 zwoj\\u00f3w\"}},\"yaxis\":{\"title\":{\"text\":\"F<sub>ed</sub> -  si\\u0142a elektrodynamiczna [N]\"}}},                        {\"responsive\": true}                    ).then(function(){\n",
       "                            \n",
       "var gd = document.getElementById('73c9845d-5aa5-4bed-8af8-481b42a4ec38');\n",
       "var x = new MutationObserver(function (mutations, observer) {{\n",
       "        var display = window.getComputedStyle(gd).display;\n",
       "        if (!display || display === 'none') {{\n",
       "            console.log([gd, 'removed!']);\n",
       "            Plotly.purge(gd);\n",
       "            observer.disconnect();\n",
       "        }}\n",
       "}});\n",
       "\n",
       "// Listen for the removal of the full notebook cells\n",
       "var notebookContainer = gd.closest('#notebook-container');\n",
       "if (notebookContainer) {{\n",
       "    x.observe(notebookContainer, {childList: true});\n",
       "}}\n",
       "\n",
       "// Listen for the clearing of the current output cell\n",
       "var outputEl = gd.closest('.output');\n",
       "if (outputEl) {{\n",
       "    x.observe(outputEl, {childList: true});\n",
       "}}\n",
       "\n",
       "                        })                };                });            </script>        </div>"
      ]
     },
     "metadata": {},
     "output_type": "display_data"
    }
   ],
   "source": [
    "zwoje = [z5.value, z10.value, z15.value, z20.value, z25.value]\n",
    "fig = go.Figure()\n",
    "fig.add_trace(go.Scatter(x=zwoje,y=df[\"fed\"],))\n",
    "fig.update_layout(\n",
    "    title_text = \"Zależność F<sub>ed</sub> od ilości uzwojeń\",\n",
    "    xaxis_title_text = \"Ilość zwojów\",\n",
    "    yaxis_title_text = \"F<sub>ed</sub> -  siła elektrodynamiczna [N]\")\n",
    "fig.show()"
   ]
  },
  {
   "cell_type": "markdown",
   "id": "e99f9874",
   "metadata": {},
   "source": [
    "# Odczytanie danych z pierwszego wykresu i wpisanie ich w pola poniżej"
   ]
  },
  {
   "cell_type": "code",
   "execution_count": 124,
   "id": "2893c024",
   "metadata": {},
   "outputs": [
    {
     "name": "stdout",
     "output_type": "stream",
     "text": [
      "Obliczenie wartości indukcji magnetycznej:\n",
      " gdzie:\n",
      " ar - współczynnik nachylenia regresji liniowej \n",
      " n - ilość zwojów \n",
      " a - długość dolnej części ramki\n"
     ]
    },
    {
     "data": {
      "application/vnd.jupyter.widget-view+json": {
       "model_id": "acb2a353d5c54e1ea6099ef276712455",
       "version_major": 2,
       "version_minor": 0
      },
      "text/plain": [
       "FloatText(value=0.0, description='ar:')"
      ]
     },
     "metadata": {},
     "output_type": "display_data"
    },
    {
     "data": {
      "application/vnd.jupyter.widget-view+json": {
       "model_id": "1114ea18136a489eb6609a0cd3b830e3",
       "version_major": 2,
       "version_minor": 0
      },
      "text/plain": [
       "FloatText(value=0.0, description='n:')"
      ]
     },
     "metadata": {},
     "output_type": "display_data"
    },
    {
     "data": {
      "application/vnd.jupyter.widget-view+json": {
       "model_id": "2b6a615fb2e54d2393763fa55e0c95cf",
       "version_major": 2,
       "version_minor": 0
      },
      "text/plain": [
       "FloatText(value=0.13, description='a:')"
      ]
     },
     "metadata": {},
     "output_type": "display_data"
    }
   ],
   "source": [
    "print(\"Obliczenie wartości indukcji magnetycznej:\\n gdzie:\\n ar - współczynnik nachylenia regresji liniowej \\n n - ilość zwojów \\n a - długość dolnej części ramki\")\n",
    "ar = widgets.FloatText(description=\"ar:\" )\n",
    "n = widgets.FloatText(description=\"n:\" )\n",
    "a = widgets.FloatText(description=\"a:\", value=\"0.13\" )\n",
    "display(ar, n, a)"
   ]
  },
  {
   "cell_type": "markdown",
   "id": "56e1f481",
   "metadata": {},
   "source": [
    "# Wartość indukcji magnetycznej"
   ]
  },
  {
   "cell_type": "code",
   "execution_count": 139,
   "id": "7e0e8fed",
   "metadata": {},
   "outputs": [
    {
     "name": "stdout",
     "output_type": "stream",
     "text": [
      "0.26328205128205123\n"
     ]
    }
   ],
   "source": [
    "B = ar.value/(n.value*a.value)\n",
    "print(B)"
   ]
  },
  {
   "cell_type": "code",
   "execution_count": null,
   "id": "a278afea",
   "metadata": {},
   "outputs": [],
   "source": []
  }
 ],
 "metadata": {
  "kernelspec": {
   "display_name": "Python 3 (ipykernel)",
   "language": "python",
   "name": "python3"
  },
  "language_info": {
   "codemirror_mode": {
    "name": "ipython",
    "version": 3
   },
   "file_extension": ".py",
   "mimetype": "text/x-python",
   "name": "python",
   "nbconvert_exporter": "python",
   "pygments_lexer": "ipython3",
   "version": "3.9.12"
  }
 },
 "nbformat": 4,
 "nbformat_minor": 5
}
